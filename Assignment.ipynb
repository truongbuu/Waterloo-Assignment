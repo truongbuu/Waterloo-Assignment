{
 "cells": [
  {
   "cell_type": "markdown",
   "metadata": {},
   "source": [
    "# _ ECE WATERLOO ASSIGNMENT _"
   ]
  },
  {
   "cell_type": "code",
   "execution_count": 1,
   "metadata": {
    "collapsed": false
   },
   "outputs": [],
   "source": [
    "# Import libaries\n",
    "%matplotlib inline\n",
    "import matplotlib.pyplot as plt\n",
    "plt.rcParams[\"figure.figsize\"] = [15,18]\n",
    "import pandas as pd\n",
    "import numpy as np\n",
    "from sklearn.preprocessing import PolynomialFeatures\n",
    "from sklearn.model_selection import train_test_split\n",
    "from sklearn.model_selection import GridSearchCV\n",
    "from sklearn.linear_model import Ridge\n",
    "from sklearn.linear_model import RidgeCV\n",
    "from sklearn.linear_model import LassoCV\n",
    "from sklearn.metrics import r2_score\n",
    "from sklearn.metrics import mean_squared_error\n",
    "from sklearn.model_selection import cross_val_score\n",
    "import numpy as np"
   ]
  },
  {
   "cell_type": "markdown",
   "metadata": {},
   "source": [
    "_ Read modified csv file _"
   ]
  },
  {
   "cell_type": "code",
   "execution_count": 2,
   "metadata": {
    "collapsed": true
   },
   "outputs": [],
   "source": [
    "df = pd.read_csv('Data.csv')"
   ]
  },
  {
   "cell_type": "code",
   "execution_count": 3,
   "metadata": {
    "collapsed": false
   },
   "outputs": [],
   "source": [
    "#df = df[df.t != 0]"
   ]
  },
  {
   "cell_type": "code",
   "execution_count": 4,
   "metadata": {
    "collapsed": false
   },
   "outputs": [
    {
     "data": {
      "text/html": [
       "<div>\n",
       "<table border=\"1\" class=\"dataframe\">\n",
       "  <thead>\n",
       "    <tr style=\"text-align: right;\">\n",
       "      <th></th>\n",
       "      <th>t</th>\n",
       "      <th>x</th>\n",
       "      <th>y</th>\n",
       "      <th>x_out</th>\n",
       "      <th>y_out</th>\n",
       "    </tr>\n",
       "  </thead>\n",
       "  <tbody>\n",
       "    <tr>\n",
       "      <th>0</th>\n",
       "      <td>0</td>\n",
       "      <td>0.54378</td>\n",
       "      <td>0.20457</td>\n",
       "      <td>0.00000</td>\n",
       "      <td>0.00000</td>\n",
       "    </tr>\n",
       "    <tr>\n",
       "      <th>1</th>\n",
       "      <td>1</td>\n",
       "      <td>0.54378</td>\n",
       "      <td>0.20457</td>\n",
       "      <td>0.54378</td>\n",
       "      <td>0.20457</td>\n",
       "    </tr>\n",
       "    <tr>\n",
       "      <th>2</th>\n",
       "      <td>2</td>\n",
       "      <td>0.54378</td>\n",
       "      <td>0.20457</td>\n",
       "      <td>1.08760</td>\n",
       "      <td>0.31114</td>\n",
       "    </tr>\n",
       "    <tr>\n",
       "      <th>3</th>\n",
       "      <td>3</td>\n",
       "      <td>0.54378</td>\n",
       "      <td>0.20457</td>\n",
       "      <td>1.63140</td>\n",
       "      <td>0.31971</td>\n",
       "    </tr>\n",
       "    <tr>\n",
       "      <th>4</th>\n",
       "      <td>4</td>\n",
       "      <td>0.54378</td>\n",
       "      <td>0.20457</td>\n",
       "      <td>2.17510</td>\n",
       "      <td>0.23028</td>\n",
       "    </tr>\n",
       "  </tbody>\n",
       "</table>\n",
       "</div>"
      ],
      "text/plain": [
       "   t        x        y    x_out    y_out\n",
       "0  0  0.54378  0.20457  0.00000  0.00000\n",
       "1  1  0.54378  0.20457  0.54378  0.20457\n",
       "2  2  0.54378  0.20457  1.08760  0.31114\n",
       "3  3  0.54378  0.20457  1.63140  0.31971\n",
       "4  4  0.54378  0.20457  2.17510  0.23028"
      ]
     },
     "execution_count": 4,
     "metadata": {},
     "output_type": "execute_result"
    }
   ],
   "source": [
    "df.head()"
   ]
  },
  {
   "cell_type": "code",
   "execution_count": 5,
   "metadata": {
    "collapsed": false
   },
   "outputs": [],
   "source": [
    "#Split the input and output from dataframe\n",
    "xy_output = df[['x_out','y_out']].values\n",
    "df = df.drop(['x_out','y_out'],1)\n",
    "X = df.values"
   ]
  },
  {
   "cell_type": "markdown",
   "metadata": {},
   "source": [
    "_ Features Transformation _"
   ]
  },
  {
   "cell_type": "code",
   "execution_count": 6,
   "metadata": {
    "collapsed": false
   },
   "outputs": [],
   "source": [
    "poly = PolynomialFeatures(5)\n",
    "X =poly.fit_transform(X)"
   ]
  },
  {
   "cell_type": "code",
   "execution_count": 7,
   "metadata": {
    "collapsed": false,
    "scrolled": true
   },
   "outputs": [
    {
     "name": "stdout",
     "output_type": "stream",
     "text": [
      "[  1.00000000e+00   0.00000000e+00   5.43780000e-01   2.04570000e-01\n",
      "   0.00000000e+00   0.00000000e+00   0.00000000e+00   2.95696688e-01\n",
      "   1.11241075e-01   4.18488849e-02   0.00000000e+00   0.00000000e+00\n",
      "   0.00000000e+00   0.00000000e+00   0.00000000e+00   0.00000000e+00\n",
      "   1.60793945e-01   6.04906715e-02   2.27565866e-02   8.56102638e-03\n",
      "   0.00000000e+00   0.00000000e+00   0.00000000e+00   0.00000000e+00\n",
      "   0.00000000e+00   0.00000000e+00   0.00000000e+00   0.00000000e+00\n",
      "   0.00000000e+00   0.00000000e+00   8.74365315e-02   3.28936174e-02\n",
      "   1.23745767e-02   4.65531493e-03   1.75132917e-03   0.00000000e+00\n",
      "   0.00000000e+00   0.00000000e+00   0.00000000e+00   0.00000000e+00\n",
      "   0.00000000e+00   0.00000000e+00   0.00000000e+00   0.00000000e+00\n",
      "   0.00000000e+00   0.00000000e+00   0.00000000e+00   0.00000000e+00\n",
      "   0.00000000e+00   0.00000000e+00   4.75462371e-02   1.78868913e-02\n",
      "   6.72904731e-03   2.53146715e-03   9.52337775e-04   3.58269408e-04]\n",
      "56\n"
     ]
    }
   ],
   "source": [
    "print X[0]\n",
    "print len(X[0])"
   ]
  },
  {
   "cell_type": "markdown",
   "metadata": {},
   "source": [
    "Split data for training and test "
   ]
  },
  {
   "cell_type": "code",
   "execution_count": 8,
   "metadata": {
    "collapsed": true
   },
   "outputs": [],
   "source": [
    "X_train, X_test, xy_pos_train, xy_pos_test = train_test_split(X, xy_output, test_size = 0.2, random_state = 5 )"
   ]
  },
  {
   "cell_type": "markdown",
   "metadata": {},
   "source": [
    "# _ Apply Ridge Regression as our model_"
   ]
  },
  {
   "cell_type": "code",
   "execution_count": 9,
   "metadata": {
    "collapsed": false
   },
   "outputs": [
    {
     "data": {
      "text/plain": [
       "RidgeCV(alphas=(0.0001, 0.001, 0.01, 0.1, 1.0, 10.0, 100), cv=5,\n",
       "    fit_intercept=True, gcv_mode=None, normalize=False, scoring=None,\n",
       "    store_cv_values=False)"
      ]
     },
     "execution_count": 9,
     "metadata": {},
     "output_type": "execute_result"
    }
   ],
   "source": [
    "Ridge_model_x = RidgeCV(alphas=(0.0001,0.001,0.01,0.1, 1.0, 10.0,100),cv = 5)\n",
    "Ridge_model_x.fit(X_train,xy_pos_train[:,0])"
   ]
  },
  {
   "cell_type": "code",
   "execution_count": 10,
   "metadata": {
    "collapsed": false
   },
   "outputs": [
    {
     "data": {
      "text/plain": [
       "RidgeCV(alphas=(0.0001, 0.001, 0.01, 0.1, 1.0, 10.0, 100, 1000, 10000), cv=5,\n",
       "    fit_intercept=True, gcv_mode=None, normalize=False, scoring=None,\n",
       "    store_cv_values=False)"
      ]
     },
     "execution_count": 10,
     "metadata": {},
     "output_type": "execute_result"
    }
   ],
   "source": [
    "Ridge_model_y = RidgeCV(alphas=(0.0001,0.001,0.01,0.1, 1.0, 10.0,100,1000,10000),cv = 5)\n",
    "Ridge_model_y.fit(X_train,xy_pos_train[:,1])"
   ]
  },
  {
   "cell_type": "code",
   "execution_count": 11,
   "metadata": {
    "collapsed": false
   },
   "outputs": [
    {
     "name": "stdout",
     "output_type": "stream",
     "text": [
      "Coefficient for x with Ridge Regression: [  0.00000000e+00   1.11649424e-04   2.85309461e-03   1.38408254e-03\n",
      "  -6.00337620e-07   9.99463711e-01  -3.71706758e-04  -8.68703226e-03\n",
      "  -5.65074635e-03  -3.14820397e-03   2.99229614e-07   2.17139571e-06\n",
      "  -1.01968491e-05   7.78622024e-04   1.18540956e-03   4.93612376e-04\n",
      "   1.13625990e-02   8.85640846e-03   4.84462711e-03   4.23041756e-03\n",
      "   2.03667068e-08  -1.61039276e-07  -1.13777423e-06   3.67404133e-07\n",
      "  -2.17684860e-07   2.36710467e-05  -5.86893926e-04  -6.12422471e-04\n",
      "  -1.09096145e-03  -3.01415847e-04  -6.02963330e-03  -6.17720527e-03\n",
      "  -5.72875689e-03  -5.16870864e-04  -3.00758017e-03  -3.13506590e-11\n",
      "  -5.51194913e-09  -9.66787114e-09   3.27764395e-08   2.84027681e-07\n",
      "   5.08760197e-07  -5.47266816e-07   1.15723852e-07  -3.18913762e-06\n",
      "  -9.60972122e-06   1.85193558e-04   5.23918517e-05   2.97600284e-04\n",
      "   3.04862671e-04   6.85324389e-05   7.31000690e-04   3.36553464e-03\n",
      "  -1.47300158e-03   3.01802963e-03  -7.21597518e-04   7.90906341e-04]\n",
      "Coefficient for y with Ridge Regression: [  0.00000000e+00   4.89972181e-02   1.77558311e-03   3.60068876e-04\n",
      "  -4.89942781e-02   2.06975338e-04   9.99818219e-01  -1.02931024e-02\n",
      "   1.77198388e-03  -1.20320950e-03   5.51330829e-07  -2.19339470e-05\n",
      "  -2.22968016e-05  -1.55295694e-04  -2.64807788e-04   5.27750550e-04\n",
      "   1.91841654e-02  -5.63122830e-03   2.44576200e-03   3.16302085e-04\n",
      "   5.72029478e-09  -4.06769478e-07  -9.08624681e-07   1.63100447e-05\n",
      "   3.08278172e-05   2.46824678e-05  -1.73981963e-05   1.51185093e-04\n",
      "   1.85613720e-04  -5.46515305e-04  -1.26656400e-02  -1.64905356e-03\n",
      "   7.25486016e-03  -5.06263028e-03   7.92141024e-04   3.02928723e-10\n",
      "   7.21563339e-10  -1.77027527e-08   9.03607124e-08   1.93583158e-07\n",
      "   5.72352595e-07  -4.18990061e-06  -8.02132161e-06  -1.09300353e-05\n",
      "  -9.27748548e-06   4.14454933e-05  -7.61123779e-05   2.21618057e-05\n",
      "  -6.87072466e-05   1.77293039e-04   2.81745408e-03   1.53914479e-03\n",
      "  -1.68531981e-03  -1.14350735e-03   1.57777682e-03  -3.56762507e-04]\n"
     ]
    }
   ],
   "source": [
    "print 'Coefficient for x with Ridge Regression:', Ridge_model_x.coef_\n",
    "print 'Coefficient for y with Ridge Regression:', Ridge_model_y.coef_"
   ]
  },
  {
   "cell_type": "code",
   "execution_count": 12,
   "metadata": {
    "collapsed": false
   },
   "outputs": [
    {
     "name": "stdout",
     "output_type": "stream",
     "text": [
      "Root Mean Square Error for In-Sample of x with Ridge Regression : 0.000171886573689\n",
      "Root Mean Square Error for Out-Sample of x with Ridge Regression :  0.000205785048629\n"
     ]
    }
   ],
   "source": [
    "i = Ridge_model_x.predict(X_train)\n",
    "o = Ridge_model_x.predict(X_test)\n",
    "print 'Root Mean Square Error for In-Sample of x with Ridge Regression :', np.sqrt(mean_squared_error(xy_pos_train[:,0], i))\n",
    "print 'Root Mean Square Error for Out-Sample of x with Ridge Regression : ', np.sqrt(mean_squared_error(xy_pos_test[:,0], o))"
   ]
  },
  {
   "cell_type": "code",
   "execution_count": 13,
   "metadata": {
    "collapsed": false
   },
   "outputs": [
    {
     "name": "stdout",
     "output_type": "stream",
     "text": [
      "Root Mean Square Error for In-Sample of y with Ridge Regression  0.000220800189564\n",
      "Root Mean Square Error for Out-Sample of y with Ridge Regression:  0.000229847921395\n"
     ]
    }
   ],
   "source": [
    "i = Ridge_model_y.predict(X_train)\n",
    "o = Ridge_model_y.predict(X_test)\n",
    "print 'Root Mean Square Error for In-Sample of y with Ridge Regression ', np.sqrt(mean_squared_error(xy_pos_train[:,1], i))\n",
    "print 'Root Mean Square Error for Out-Sample of y with Ridge Regression: ', np.sqrt(mean_squared_error(xy_pos_test[:,1], o))"
   ]
  },
  {
   "cell_type": "code",
   "execution_count": 14,
   "metadata": {
    "collapsed": false
   },
   "outputs": [
    {
     "name": "stdout",
     "output_type": "stream",
     "text": [
      "Root Mean Square Error for In-Sample with Ridge Regression  0.00019786070596\n",
      "Root Mean Square Error for Out-Sample with Ridge Regression:  0.000218148519602\n"
     ]
    }
   ],
   "source": [
    "ix = Ridge_model_x.predict(X_train)\n",
    "ox = Ridge_model_x.predict(X_test)\n",
    "\n",
    "iy = Ridge_model_y.predict(X_train)\n",
    "oy = Ridge_model_y.predict(X_test)\n",
    "print 'Root Mean Square Error for In-Sample with Ridge Regression ', np.sqrt(mean_squared_error(xy_pos_train, np.vstack((ix,iy)).T))\n",
    "print 'Root Mean Square Error for Out-Sample with Ridge Regression: ', np.sqrt(mean_squared_error(xy_pos_test, np.vstack((ox,oy)).T))\n"
   ]
  },
  {
   "cell_type": "markdown",
   "metadata": {},
   "source": [
    "# _Apply Lasso Regression as our model_#"
   ]
  },
  {
   "cell_type": "code",
   "execution_count": 15,
   "metadata": {
    "collapsed": false
   },
   "outputs": [
    {
     "name": "stderr",
     "output_type": "stream",
     "text": [
      "C:\\Users\\buu\\Anaconda2\\lib\\site-packages\\sklearn\\linear_model\\coordinate_descent.py:479: ConvergenceWarning: Objective did not converge. You might want to increase the number of iterations. Fitting data with very small alpha may cause precision problems.\n",
      "  ConvergenceWarning)\n"
     ]
    },
    {
     "data": {
      "text/plain": [
       "LassoCV(alphas=[1e-06, 1e-05, 0.0001, 0.001, 0.01, 0.1, 1.0, 10.0, 100, 1000, 10000],\n",
       "    copy_X=True, cv=5, eps=0.001, fit_intercept=True, max_iter=1000,\n",
       "    n_alphas=100, n_jobs=1, normalize=False, positive=False,\n",
       "    precompute='auto', random_state=None, selection='cyclic', tol=0.0001,\n",
       "    verbose=False)"
      ]
     },
     "execution_count": 15,
     "metadata": {},
     "output_type": "execute_result"
    }
   ],
   "source": [
    "Lasso_model_x = LassoCV(alphas=[0.000001,0.00001, 0.0001,0.001,0.01,0.1, 1.0, 10.0,100,1000,10000],cv = 5)\n",
    "Lasso_model_x.fit(X_train,xy_pos_train[:,0])"
   ]
  },
  {
   "cell_type": "code",
   "execution_count": 16,
   "metadata": {
    "collapsed": false
   },
   "outputs": [
    {
     "data": {
      "text/plain": [
       "LassoCV(alphas=[1e-06, 1e-05, 0.0001, 0.001, 0.01, 0.1, 1.0, 10.0, 100, 1000, 10000],\n",
       "    copy_X=True, cv=5, eps=0.001, fit_intercept=True, max_iter=1000,\n",
       "    n_alphas=100, n_jobs=1, normalize=False, positive=False,\n",
       "    precompute='auto', random_state=None, selection='cyclic', tol=0.0001,\n",
       "    verbose=False)"
      ]
     },
     "execution_count": 16,
     "metadata": {},
     "output_type": "execute_result"
    }
   ],
   "source": [
    "Lasso_model_y = LassoCV(alphas=[0.000001,0.00001, 0.0001,0.001,0.01,0.1, 1.0, 10.0,100,1000,10000],cv = 5)\n",
    "Lasso_model_y.fit(X_train,xy_pos_train[:,1])"
   ]
  },
  {
   "cell_type": "code",
   "execution_count": 17,
   "metadata": {
    "collapsed": false
   },
   "outputs": [
    {
     "name": "stdout",
     "output_type": "stream",
     "text": [
      "Coefficient for x with Lasso Regression: [  0.00000000e+00   4.40400570e-02   3.68162323e-01  -5.82790746e-02\n",
      "   2.80485026e-03   8.33664404e-01  -8.61595254e-02  -1.35890014e-01\n",
      "   4.16890246e-01   1.54491967e-01  -1.24930016e-04   3.06089748e-03\n",
      "   5.30327327e-04   9.44135281e-02   6.80007277e-02   2.11969960e-02\n",
      "  -1.75013094e-01  -3.01270156e-01  -3.35639197e-01   2.16177894e-02\n",
      "  -1.02294719e-06  -6.45556829e-05   2.49857687e-05  -1.58163478e-03\n",
      "   3.03295299e-04   8.33699955e-05   1.24057485e-02   9.30393858e-04\n",
      "   1.93411703e-02   1.68501968e-03   1.13862579e-01  -4.64052570e-02\n",
      "  -8.14445091e-02  -5.65509962e-02  -1.20961232e-02   4.51112317e-08\n",
      "   3.68681935e-06  -4.95216222e-07   7.75042077e-05  -7.16360135e-05\n",
      "   4.66840256e-06  -6.31473568e-04  -8.23440041e-04  -7.04111977e-04\n",
      "  -7.52075475e-06  -1.21706407e-02  -4.19057690e-03  -1.37008064e-02\n",
      "   1.98578213e-03  -1.69907452e-03  -1.51284258e-02   5.44816974e-02\n",
      "   1.16102780e-01   6.76735059e-02   2.30643973e-02  -9.34458623e-03]\n",
      "Coefficient for y with Lasso Regression: [  0.00000000e+00   5.69359626e-03  -9.86079942e-02   6.89240714e-01\n",
      "  -2.86109510e-02   9.21351246e-02   6.33668249e-01  -2.22598631e-01\n",
      "  -5.08520148e-01   2.26433081e-01  -7.45693877e-04  -1.15338047e-02\n",
      "   7.55310607e-03  -4.50688582e-02   1.93105317e-01   1.13845292e-01\n",
      "   3.69418995e-01   3.65027694e-02  -3.66320119e-01  -1.66939714e-01\n",
      "  -3.82905625e-06  -1.34604287e-04   7.44645452e-05  -1.76715232e-03\n",
      "   5.59263220e-04  -5.70127430e-04   9.22768403e-05   3.19476204e-02\n",
      "   1.80199898e-02   1.23344004e-02  -2.85879819e-02   6.36521651e-02\n",
      "   1.92321142e-02  -7.61371060e-02  -6.81324688e-02   1.97747286e-07\n",
      "   8.46500552e-06   5.17272367e-07   1.47255958e-04   5.68760603e-06\n",
      "  -2.39279968e-05   1.75831013e-03  -1.39855474e-03  -1.34943916e-03\n",
      "  -8.95179346e-04  -2.31785460e-03  -1.37565424e-02  -2.97005706e-02\n",
      "  -2.15478533e-02  -2.79358588e-03  -5.66965857e-02   1.64929303e-02\n",
      "  -7.11952315e-02   1.49394854e-01   1.13925929e-01   1.80350443e-02]\n"
     ]
    }
   ],
   "source": [
    "print 'Coefficient for x with Lasso Regression:', Lasso_model_x.coef_\n",
    "print 'Coefficient for y with Lasso Regression:', Lasso_model_y.coef_"
   ]
  },
  {
   "cell_type": "code",
   "execution_count": 18,
   "metadata": {
    "collapsed": false
   },
   "outputs": [
    {
     "name": "stdout",
     "output_type": "stream",
     "text": [
      "Root Mean Square Error for In-Sample of x with Lasso Regression : 0.034528113511\n",
      "Root Mean Square Error for Out-Sample of x with Lasso Regression :  0.0359269655257\n"
     ]
    }
   ],
   "source": [
    "i = Lasso_model_x.predict(X_train)\n",
    "o = Lasso_model_x.predict(X_test)\n",
    "print 'Root Mean Square Error for In-Sample of x with Lasso Regression :', np.sqrt(mean_squared_error(xy_pos_train[:,0], i))\n",
    "print 'Root Mean Square Error for Out-Sample of x with Lasso Regression : ', np.sqrt(mean_squared_error(xy_pos_test[:,0], o))"
   ]
  },
  {
   "cell_type": "code",
   "execution_count": 19,
   "metadata": {
    "collapsed": false
   },
   "outputs": [
    {
     "name": "stdout",
     "output_type": "stream",
     "text": [
      "Root Mean Square Error for In-Sample of y with Lasso Regression : 0.103937173862\n",
      "Root Mean Square Error for Out-Sample of y with Lasso Regression :  0.106847758518\n"
     ]
    }
   ],
   "source": [
    "i = Lasso_model_y.predict(X_train)\n",
    "o = Lasso_model_y.predict(X_test)\n",
    "print 'Root Mean Square Error for In-Sample of y with Lasso Regression :', np.sqrt(mean_squared_error(xy_pos_train[:,1], i))\n",
    "print 'Root Mean Square Error for Out-Sample of y with Lasso Regression : ', np.sqrt(mean_squared_error(xy_pos_test[:,1], o))"
   ]
  },
  {
   "cell_type": "code",
   "execution_count": 20,
   "metadata": {
    "collapsed": false
   },
   "outputs": [
    {
     "name": "stdout",
     "output_type": "stream",
     "text": [
      "Root Mean Square Error for In-Sample with Ridge Regression  0.0774439369258\n",
      "Root Mean Square Error for Out-Sample with Ridge Regression:  0.0797094422015\n"
     ]
    }
   ],
   "source": [
    "ix = Lasso_model_x.predict(X_train)\n",
    "ox = Lasso_model_x.predict(X_test)\n",
    "\n",
    "iy = Lasso_model_y.predict(X_train)\n",
    "oy = Lasso_model_y.predict(X_test)\n",
    "print 'Root Mean Square Error for In-Sample with Ridge Regression ', np.sqrt(mean_squared_error(xy_pos_train, np.vstack((ix,iy)).T))\n",
    "print 'Root Mean Square Error for Out-Sample with Ridge Regression: ', np.sqrt(mean_squared_error(xy_pos_test, np.vstack((ox,oy)).T))\n"
   ]
  },
  {
   "cell_type": "markdown",
   "metadata": {},
   "source": [
    "# _Predict the trajectory of a projectile launched at 45 degrees with an initial velocity of 10 m/s till it hits the ground or timeindex=100 whichever is earlier_"
   ]
  },
  {
   "cell_type": "code",
   "execution_count": 21,
   "metadata": {
    "collapsed": false
   },
   "outputs": [
    {
     "data": {
      "text/html": [
       "<div>\n",
       "<table border=\"1\" class=\"dataframe\">\n",
       "  <thead>\n",
       "    <tr style=\"text-align: right;\">\n",
       "      <th></th>\n",
       "      <th>t</th>\n",
       "      <th>x</th>\n",
       "      <th>y</th>\n",
       "    </tr>\n",
       "  </thead>\n",
       "  <tbody>\n",
       "    <tr>\n",
       "      <th>0</th>\n",
       "      <td>1</td>\n",
       "      <td>0.707107</td>\n",
       "      <td>0.658107</td>\n",
       "    </tr>\n",
       "    <tr>\n",
       "      <th>1</th>\n",
       "      <td>2</td>\n",
       "      <td>0.707107</td>\n",
       "      <td>0.658107</td>\n",
       "    </tr>\n",
       "    <tr>\n",
       "      <th>2</th>\n",
       "      <td>3</td>\n",
       "      <td>0.707107</td>\n",
       "      <td>0.658107</td>\n",
       "    </tr>\n",
       "    <tr>\n",
       "      <th>3</th>\n",
       "      <td>4</td>\n",
       "      <td>0.707107</td>\n",
       "      <td>0.658107</td>\n",
       "    </tr>\n",
       "    <tr>\n",
       "      <th>4</th>\n",
       "      <td>5</td>\n",
       "      <td>0.707107</td>\n",
       "      <td>0.658107</td>\n",
       "    </tr>\n",
       "  </tbody>\n",
       "</table>\n",
       "</div>"
      ],
      "text/plain": [
       "   t         x         y\n",
       "0  1  0.707107  0.658107\n",
       "1  2  0.707107  0.658107\n",
       "2  3  0.707107  0.658107\n",
       "3  4  0.707107  0.658107\n",
       "4  5  0.707107  0.658107"
      ]
     },
     "execution_count": 21,
     "metadata": {},
     "output_type": "execute_result"
    }
   ],
   "source": [
    "#Read the formatted output file\n",
    "predict_df = pd.read_csv('out_45_10.csv')\n",
    "predict_df.head()"
   ]
  },
  {
   "cell_type": "code",
   "execution_count": 22,
   "metadata": {
    "collapsed": false
   },
   "outputs": [
    {
     "data": {
      "text/html": [
       "<div>\n",
       "<table border=\"1\" class=\"dataframe\">\n",
       "  <thead>\n",
       "    <tr style=\"text-align: right;\">\n",
       "      <th></th>\n",
       "      <th>x</th>\n",
       "      <th>y</th>\n",
       "    </tr>\n",
       "  </thead>\n",
       "  <tbody>\n",
       "    <tr>\n",
       "      <th>0</th>\n",
       "      <td>0.70711</td>\n",
       "      <td>0.65811</td>\n",
       "    </tr>\n",
       "    <tr>\n",
       "      <th>1</th>\n",
       "      <td>1.41420</td>\n",
       "      <td>1.21820</td>\n",
       "    </tr>\n",
       "    <tr>\n",
       "      <th>2</th>\n",
       "      <td>2.12130</td>\n",
       "      <td>1.68030</td>\n",
       "    </tr>\n",
       "    <tr>\n",
       "      <th>3</th>\n",
       "      <td>2.82840</td>\n",
       "      <td>2.04440</td>\n",
       "    </tr>\n",
       "    <tr>\n",
       "      <th>4</th>\n",
       "      <td>3.53550</td>\n",
       "      <td>2.31050</td>\n",
       "    </tr>\n",
       "  </tbody>\n",
       "</table>\n",
       "</div>"
      ],
      "text/plain": [
       "         x        y\n",
       "0  0.70711  0.65811\n",
       "1  1.41420  1.21820\n",
       "2  2.12130  1.68030\n",
       "3  2.82840  2.04440\n",
       "4  3.53550  2.31050"
      ]
     },
     "execution_count": 22,
     "metadata": {},
     "output_type": "execute_result"
    }
   ],
   "source": [
    "#Read the prepared ground truth\n",
    "ground_truth = pd.read_csv('Ground_truth.csv')\n",
    "X_truth = ground_truth['x'].values\n",
    "Y_truth = ground_truth['y'].values\n",
    "Y_truth_stop = Y_truth[Y_truth>=0]\n",
    "X_truth_stop = X_truth[0:len(Y_truth_stop)]\n",
    "ground_truth.head()\n"
   ]
  },
  {
   "cell_type": "code",
   "execution_count": 23,
   "metadata": {
    "collapsed": false
   },
   "outputs": [],
   "source": [
    "X_input = poly.fit_transform(predict_df.values)"
   ]
  },
  {
   "cell_type": "markdown",
   "metadata": {},
   "source": [
    "Apply the model to the data set"
   ]
  },
  {
   "cell_type": "code",
   "execution_count": 24,
   "metadata": {
    "collapsed": false
   },
   "outputs": [
    {
     "name": "stdout",
     "output_type": "stream",
     "text": [
      "[ 0.70705756  1.41417593  2.12129384  2.82841072  3.53552623  4.24264025\n",
      "  4.94975289  5.65686448  6.36397557  7.07108692  7.77819949  8.48531445\n",
      "  9.19243319  9.89955726]\n",
      "[ 0.65808214  1.2181982   1.68031187  2.04442323  2.31053235  2.4786393\n",
      "  2.54874422  2.52084733  2.39494897  2.17104965  1.84915007  1.42925117\n",
      "  0.91135415  0.29546053]\n"
     ]
    }
   ],
   "source": [
    "#This block output the trajectories of the projectile based on Ridge Regression Model\n",
    "x_output_Ridge = Ridge_model_x.predict(X_input)\n",
    "y_output_Ridge = Ridge_model_y.predict(X_input)\n",
    "y_output_Ridge_stop = y_output_Ridge[y_output_Ridge>=0]\n",
    "x_output_Ridge_stop = x_output_Ridge[0:len(y_output_Ridge_stop)]\n",
    "print x_output_Ridge_stop\n",
    "print y_output_Ridge_stop"
   ]
  },
  {
   "cell_type": "code",
   "execution_count": 25,
   "metadata": {
    "collapsed": false
   },
   "outputs": [
    {
     "name": "stdout",
     "output_type": "stream",
     "text": [
      "14\n",
      "[ 0.75235945  1.43238271  2.118702    2.81053021  3.5071267   4.20780263\n",
      "  4.91192647  5.61892933  6.32831042  7.03964246  7.75257707  8.4668502\n",
      "  9.18228757  9.89881001]\n",
      "[ 0.67804798  1.18248996  1.61203483  1.9625538   2.23004917  2.41067813\n",
      "  2.50077641  2.49688207  2.39575921  2.19442167  1.8901568   1.48054919\n",
      "  0.96350437  0.33727254]\n"
     ]
    }
   ],
   "source": [
    "#This block output the trajectories of the projectile based on Lasso Regression model\n",
    "x_output_Lasso = Lasso_model_x.predict(X_input)\n",
    "y_output_Lasso = Lasso_model_y.predict(X_input)\n",
    "_less_than_0= np.argmax(y_output_Lasso < 0)\n",
    "print _less_than_0\n",
    "y_output_Lasso_stop = y_output_Lasso[0:_less_than_0]\n",
    "x_output_Lasso_stop = x_output_Lasso[0:_less_than_0]\n",
    "print x_output_Lasso_stop\n",
    "print y_output_Lasso_stop"
   ]
  },
  {
   "cell_type": "markdown",
   "metadata": {},
   "source": [
    "# _Plot the trajectories of the 2 models and the ground truth (based on Physics) _"
   ]
  },
  {
   "cell_type": "code",
   "execution_count": 26,
   "metadata": {
    "collapsed": false
   },
   "outputs": [
    {
     "data": {
      "image/png": "[encoded data removed]",
      "text/plain": [
       "<matplotlib.figure.Figure at 0xacbaa90>"
      ]
     },
     "metadata": {},
     "output_type": "display_data"
    },
    {
     "data": {
      "image/png": "[encoded data removed]",
      "text/plain": [
       "<matplotlib.figure.Figure at 0xaf944e0>"
      ]
     },
     "metadata": {},
     "output_type": "display_data"
    },
    {
     "data": {
      "text/plain": [
       "<matplotlib.figure.Figure at 0xd54ac88>"
      ]
     },
     "metadata": {},
     "output_type": "display_data"
    }
   ],
   "source": [
    "plt.rcParams[\"figure.figsize\"] = [10,9]\n",
    "plt.subplot(2, 1, 1)\n",
    "a0= plt.plot(x_output_Lasso_stop, y_output_Lasso_stop, label = 'Lasso')\n",
    "a1= plt.plot(x_output_Ridge_stop, y_output_Ridge_stop, label = 'Ridge')\n",
    "a2= plt.plot(X_truth_stop , Y_truth_stop,'o', label = 'Ground truth')\n",
    "plt.legend()\n",
    "plt.title('Trajectory of the projectile before hitting the ground')\n",
    "plt.xlabel('x')\n",
    "plt.ylabel('y')\n",
    "plt.show()\n",
    "\n",
    "plt.subplot(2, 1, 2)\n",
    "a0= plt.plot(x_output_Lasso, y_output_Lasso, label = 'Lasso')\n",
    "a1 = plt.plot(x_output_Ridge, y_output_Ridge, label = 'Ridge')\n",
    "a2 = plt.plot(X_truth , Y_truth,'o', label = 'Ground truth')\n",
    "plt.legend(bbox_to_anchor=(0.25, 1))\n",
    "plt.title('Trajectory of the projectile ignore hitting the ground')\n",
    "plt.xlabel('x')\n",
    "plt.ylabel('y')\n",
    "plt.show()\n",
    "\n",
    "\n",
    "plt.savefig('trajectories_test.png')"
   ]
  },
  {
   "cell_type": "markdown",
   "metadata": {},
   "source": [
    "# _Output csv file for submission (Ridge Regression only)_#"
   ]
  },
  {
   "cell_type": "code",
   "execution_count": 27,
   "metadata": {
    "collapsed": false
   },
   "outputs": [],
   "source": [
    "predict_df['x_out'] = x_output_Ridge\n",
    "predict_df['y_out'] = y_output_Ridge\n",
    "tem_df = pd.DataFrame([[0,0,0,0,0]], columns=predict_df.columns)"
   ]
  },
  {
   "cell_type": "code",
   "execution_count": 28,
   "metadata": {
    "collapsed": false
   },
   "outputs": [],
   "source": [
    "tem_df = tem_df.append(predict_df,ignore_index=True)\n",
    "out_df = tem_df[tem_df['y_out'] >= 0]"
   ]
  },
  {
   "cell_type": "code",
   "execution_count": 29,
   "metadata": {
    "collapsed": false
   },
   "outputs": [],
   "source": [
    "out_df = out_df[['t','x_out','y_out']]\n",
    "out_df.columns = ['[time_collect]', '[x]', '[y]']"
   ]
  },
  {
   "cell_type": "code",
   "execution_count": 30,
   "metadata": {
    "collapsed": false
   },
   "outputs": [
    {
     "data": {
      "text/html": [
       "<div>\n",
       "<table border=\"1\" class=\"dataframe\">\n",
       "  <thead>\n",
       "    <tr style=\"text-align: right;\">\n",
       "      <th></th>\n",
       "      <th>[time_collect]</th>\n",
       "      <th>[x]</th>\n",
       "      <th>[y]</th>\n",
       "    </tr>\n",
       "  </thead>\n",
       "  <tbody>\n",
       "    <tr>\n",
       "      <th>0</th>\n",
       "      <td>0</td>\n",
       "      <td>0.000000</td>\n",
       "      <td>0.000000</td>\n",
       "    </tr>\n",
       "    <tr>\n",
       "      <th>1</th>\n",
       "      <td>1</td>\n",
       "      <td>0.707058</td>\n",
       "      <td>0.658082</td>\n",
       "    </tr>\n",
       "    <tr>\n",
       "      <th>2</th>\n",
       "      <td>2</td>\n",
       "      <td>1.414176</td>\n",
       "      <td>1.218198</td>\n",
       "    </tr>\n",
       "    <tr>\n",
       "      <th>3</th>\n",
       "      <td>3</td>\n",
       "      <td>2.121294</td>\n",
       "      <td>1.680312</td>\n",
       "    </tr>\n",
       "    <tr>\n",
       "      <th>4</th>\n",
       "      <td>4</td>\n",
       "      <td>2.828411</td>\n",
       "      <td>2.044423</td>\n",
       "    </tr>\n",
       "    <tr>\n",
       "      <th>5</th>\n",
       "      <td>5</td>\n",
       "      <td>3.535526</td>\n",
       "      <td>2.310532</td>\n",
       "    </tr>\n",
       "    <tr>\n",
       "      <th>6</th>\n",
       "      <td>6</td>\n",
       "      <td>4.242640</td>\n",
       "      <td>2.478639</td>\n",
       "    </tr>\n",
       "    <tr>\n",
       "      <th>7</th>\n",
       "      <td>7</td>\n",
       "      <td>4.949753</td>\n",
       "      <td>2.548744</td>\n",
       "    </tr>\n",
       "    <tr>\n",
       "      <th>8</th>\n",
       "      <td>8</td>\n",
       "      <td>5.656864</td>\n",
       "      <td>2.520847</td>\n",
       "    </tr>\n",
       "    <tr>\n",
       "      <th>9</th>\n",
       "      <td>9</td>\n",
       "      <td>6.363976</td>\n",
       "      <td>2.394949</td>\n",
       "    </tr>\n",
       "    <tr>\n",
       "      <th>10</th>\n",
       "      <td>10</td>\n",
       "      <td>7.071087</td>\n",
       "      <td>2.171050</td>\n",
       "    </tr>\n",
       "    <tr>\n",
       "      <th>11</th>\n",
       "      <td>11</td>\n",
       "      <td>7.778199</td>\n",
       "      <td>1.849150</td>\n",
       "    </tr>\n",
       "    <tr>\n",
       "      <th>12</th>\n",
       "      <td>12</td>\n",
       "      <td>8.485314</td>\n",
       "      <td>1.429251</td>\n",
       "    </tr>\n",
       "    <tr>\n",
       "      <th>13</th>\n",
       "      <td>13</td>\n",
       "      <td>9.192433</td>\n",
       "      <td>0.911354</td>\n",
       "    </tr>\n",
       "    <tr>\n",
       "      <th>14</th>\n",
       "      <td>14</td>\n",
       "      <td>9.899557</td>\n",
       "      <td>0.295461</td>\n",
       "    </tr>\n",
       "  </tbody>\n",
       "</table>\n",
       "</div>"
      ],
      "text/plain": [
       "    [time_collect]       [x]       [y]\n",
       "0                0  0.000000  0.000000\n",
       "1                1  0.707058  0.658082\n",
       "2                2  1.414176  1.218198\n",
       "3                3  2.121294  1.680312\n",
       "4                4  2.828411  2.044423\n",
       "5                5  3.535526  2.310532\n",
       "6                6  4.242640  2.478639\n",
       "7                7  4.949753  2.548744\n",
       "8                8  5.656864  2.520847\n",
       "9                9  6.363976  2.394949\n",
       "10              10  7.071087  2.171050\n",
       "11              11  7.778199  1.849150\n",
       "12              12  8.485314  1.429251\n",
       "13              13  9.192433  0.911354\n",
       "14              14  9.899557  0.295461"
      ]
     },
     "execution_count": 30,
     "metadata": {},
     "output_type": "execute_result"
    }
   ],
   "source": [
    "out_df"
   ]
  },
  {
   "cell_type": "code",
   "execution_count": 31,
   "metadata": {
    "collapsed": false
   },
   "outputs": [],
   "source": [
    "out_df.to_csv('submission.csv', index= False)"
   ]
  },
  {
   "cell_type": "markdown",
   "metadata": {
    "collapsed": true
   },
   "source": [
    "# _ Visualization of model performance with v = 1000 and 45 degree angle_"
   ]
  },
  {
   "cell_type": "code",
   "execution_count": 32,
   "metadata": {
    "collapsed": false
   },
   "outputs": [
    {
     "data": {
      "text/html": [
       "<div>\n",
       "<table border=\"1\" class=\"dataframe\">\n",
       "  <thead>\n",
       "    <tr style=\"text-align: right;\">\n",
       "      <th></th>\n",
       "      <th>t</th>\n",
       "      <th>x</th>\n",
       "      <th>y</th>\n",
       "    </tr>\n",
       "  </thead>\n",
       "  <tbody>\n",
       "    <tr>\n",
       "      <th>0</th>\n",
       "      <td>0</td>\n",
       "      <td>70.7107</td>\n",
       "      <td>70.6617</td>\n",
       "    </tr>\n",
       "    <tr>\n",
       "      <th>1</th>\n",
       "      <td>1</td>\n",
       "      <td>70.7107</td>\n",
       "      <td>70.6617</td>\n",
       "    </tr>\n",
       "    <tr>\n",
       "      <th>2</th>\n",
       "      <td>2</td>\n",
       "      <td>70.7107</td>\n",
       "      <td>70.6617</td>\n",
       "    </tr>\n",
       "    <tr>\n",
       "      <th>3</th>\n",
       "      <td>3</td>\n",
       "      <td>70.7107</td>\n",
       "      <td>70.6617</td>\n",
       "    </tr>\n",
       "    <tr>\n",
       "      <th>4</th>\n",
       "      <td>4</td>\n",
       "      <td>70.7107</td>\n",
       "      <td>70.6617</td>\n",
       "    </tr>\n",
       "  </tbody>\n",
       "</table>\n",
       "</div>"
      ],
      "text/plain": [
       "   t        x        y\n",
       "0  0  70.7107  70.6617\n",
       "1  1  70.7107  70.6617\n",
       "2  2  70.7107  70.6617\n",
       "3  3  70.7107  70.6617\n",
       "4  4  70.7107  70.6617"
      ]
     },
     "execution_count": 32,
     "metadata": {},
     "output_type": "execute_result"
    }
   ],
   "source": [
    "df_test_extreme = pd.read_csv('DataforExtreme.csv')\n",
    "df_test_extreme.head()"
   ]
  },
  {
   "cell_type": "code",
   "execution_count": 33,
   "metadata": {
    "collapsed": true
   },
   "outputs": [],
   "source": [
    "X_test_extreme = df_test_extreme.values\n",
    "X_test_extreme = poly.fit_transform(X_test_extreme)\n",
    "x_test_extreme = Ridge_model_x.predict(X_test_extreme)\n",
    "y_test_extreme = Ridge_model_y.predict(X_test_extreme)"
   ]
  },
  {
   "cell_type": "code",
   "execution_count": 34,
   "metadata": {
    "collapsed": false
   },
   "outputs": [
    {
     "data": {
      "text/html": [
       "<div>\n",
       "<table border=\"1\" class=\"dataframe\">\n",
       "  <thead>\n",
       "    <tr style=\"text-align: right;\">\n",
       "      <th></th>\n",
       "      <th>x</th>\n",
       "      <th>y</th>\n",
       "    </tr>\n",
       "  </thead>\n",
       "  <tbody>\n",
       "    <tr>\n",
       "      <th>0</th>\n",
       "      <td>70.711</td>\n",
       "      <td>70.662</td>\n",
       "    </tr>\n",
       "    <tr>\n",
       "      <th>1</th>\n",
       "      <td>141.420</td>\n",
       "      <td>141.230</td>\n",
       "    </tr>\n",
       "    <tr>\n",
       "      <th>2</th>\n",
       "      <td>212.130</td>\n",
       "      <td>211.690</td>\n",
       "    </tr>\n",
       "    <tr>\n",
       "      <th>3</th>\n",
       "      <td>282.840</td>\n",
       "      <td>282.060</td>\n",
       "    </tr>\n",
       "    <tr>\n",
       "      <th>4</th>\n",
       "      <td>353.550</td>\n",
       "      <td>352.330</td>\n",
       "    </tr>\n",
       "  </tbody>\n",
       "</table>\n",
       "</div>"
      ],
      "text/plain": [
       "         x        y\n",
       "0   70.711   70.662\n",
       "1  141.420  141.230\n",
       "2  212.130  211.690\n",
       "3  282.840  282.060\n",
       "4  353.550  352.330"
      ]
     },
     "execution_count": 34,
     "metadata": {},
     "output_type": "execute_result"
    }
   ],
   "source": [
    "ground_truth_extreme = pd.read_csv('Ground_truth_extreme.csv')\n",
    "ground_truth_extreme.head()"
   ]
  },
  {
   "cell_type": "code",
   "execution_count": 35,
   "metadata": {
    "collapsed": true
   },
   "outputs": [],
   "source": [
    "x_real_extreme = ground_truth_extreme['x'].values\n",
    "y_real_extreme = ground_truth_extreme['y'].values"
   ]
  },
  {
   "cell_type": "code",
   "execution_count": 36,
   "metadata": {
    "collapsed": false
   },
   "outputs": [
    {
     "data": {
      "text/plain": [
       "array([  9556903.50275798,   9578749.24148378,   9600585.90300059, ...,\n",
       "        49433850.65959372,  49449715.30738162,  49465563.73178925])"
      ]
     },
     "execution_count": 36,
     "metadata": {},
     "output_type": "execute_result"
    }
   ],
   "source": [
    "x_test_extreme"
   ]
  },
  {
   "cell_type": "code",
   "execution_count": 37,
   "metadata": {
    "collapsed": false
   },
   "outputs": [
    {
     "data": {
      "text/plain": [
       "array([  7.07110000e+01,   1.41420000e+02,   2.12130000e+02, ...,\n",
       "         1.41000000e+05,   1.41000000e+05,   1.41000000e+05])"
      ]
     },
     "execution_count": 37,
     "metadata": {},
     "output_type": "execute_result"
    }
   ],
   "source": [
    "x_real_extreme"
   ]
  },
  {
   "cell_type": "code",
   "execution_count": 38,
   "metadata": {
    "collapsed": false
   },
   "outputs": [
    {
     "data": {
      "image/png": "[encoded data removed]",
      "text/plain": [
       "<matplotlib.figure.Figure at 0xafeb908>"
      ]
     },
     "metadata": {},
     "output_type": "display_data"
    }
   ],
   "source": [
    "plt.rcParams[\"figure.figsize\"] = [7,7]\n",
    "a1 = plt.plot(np.log(x_test_extreme[0:1000]), np.log(y_test_extreme[0:1000]), label = 'Ridge')\n",
    "a2 = plt.plot(np.log(x_real_extreme[0:1000]) , np.log(y_real_extreme[0:1000]),'o', label = 'Ground truth')\n",
    "plt.legend()\n",
    "plt.legend(bbox_to_anchor=(0.4, 1))\n",
    "plt.title('Trajectory of the projectile ignore hitting the ground (log scale for x and y)')\n",
    "plt.xlabel('log(x)')\n",
    "plt.ylabel('log(y)')\n",
    "plt.savefig('trajectories_test_extreme.png')"
   ]
  },
  {
   "cell_type": "code",
   "execution_count": 39,
   "metadata": {
    "collapsed": false
   },
   "outputs": [
    {
     "name": "stdout",
     "output_type": "stream",
     "text": [
      "Root Mean Square Error under Extreme launch:  22940327.6623\n"
     ]
    }
   ],
   "source": [
    "print 'Root Mean Square Error under Extreme launch: ', np.sqrt(mean_squared_error(ground_truth_extreme.values, np.vstack((x_test_extreme[0:2000],y_test_extreme[0:2000])).T))\n"
   ]
  },
  {
   "cell_type": "code",
   "execution_count": 40,
   "metadata": {
    "collapsed": false
   },
   "outputs": [
    {
     "data": {
      "text/html": [
       "<div>\n",
       "<table border=\"1\" class=\"dataframe\">\n",
       "  <thead>\n",
       "    <tr style=\"text-align: right;\">\n",
       "      <th></th>\n",
       "      <th>x</th>\n",
       "      <th>y</th>\n",
       "    </tr>\n",
       "  </thead>\n",
       "  <tbody>\n",
       "    <tr>\n",
       "      <th>1995</th>\n",
       "      <td>141000.0</td>\n",
       "      <td>-54078.0</td>\n",
       "    </tr>\n",
       "    <tr>\n",
       "      <th>1996</th>\n",
       "      <td>141000.0</td>\n",
       "      <td>-54203.0</td>\n",
       "    </tr>\n",
       "    <tr>\n",
       "      <th>1997</th>\n",
       "      <td>141000.0</td>\n",
       "      <td>-54328.0</td>\n",
       "    </tr>\n",
       "    <tr>\n",
       "      <th>1998</th>\n",
       "      <td>141000.0</td>\n",
       "      <td>-54453.0</td>\n",
       "    </tr>\n",
       "    <tr>\n",
       "      <th>1999</th>\n",
       "      <td>141000.0</td>\n",
       "      <td>-54579.0</td>\n",
       "    </tr>\n",
       "  </tbody>\n",
       "</table>\n",
       "</div>"
      ],
      "text/plain": [
       "             x        y\n",
       "1995  141000.0 -54078.0\n",
       "1996  141000.0 -54203.0\n",
       "1997  141000.0 -54328.0\n",
       "1998  141000.0 -54453.0\n",
       "1999  141000.0 -54579.0"
      ]
     },
     "execution_count": 40,
     "metadata": {},
     "output_type": "execute_result"
    }
   ],
   "source": [
    "ground_truth_extreme.tail()"
   ]
  },
  {
   "cell_type": "code",
   "execution_count": 41,
   "metadata": {
    "collapsed": false
   },
   "outputs": [
    {
     "data": {
      "text/html": [
       "<div>\n",
       "<table border=\"1\" class=\"dataframe\">\n",
       "  <thead>\n",
       "    <tr style=\"text-align: right;\">\n",
       "      <th></th>\n",
       "      <th>t</th>\n",
       "      <th>x</th>\n",
       "      <th>y</th>\n",
       "    </tr>\n",
       "  </thead>\n",
       "  <tbody>\n",
       "    <tr>\n",
       "      <th>1996</th>\n",
       "      <td>1996</td>\n",
       "      <td>70.7107</td>\n",
       "      <td>70.6617</td>\n",
       "    </tr>\n",
       "    <tr>\n",
       "      <th>1997</th>\n",
       "      <td>1997</td>\n",
       "      <td>70.7107</td>\n",
       "      <td>70.6617</td>\n",
       "    </tr>\n",
       "    <tr>\n",
       "      <th>1998</th>\n",
       "      <td>1998</td>\n",
       "      <td>70.7107</td>\n",
       "      <td>70.6617</td>\n",
       "    </tr>\n",
       "    <tr>\n",
       "      <th>1999</th>\n",
       "      <td>1999</td>\n",
       "      <td>70.7107</td>\n",
       "      <td>70.6617</td>\n",
       "    </tr>\n",
       "    <tr>\n",
       "      <th>2000</th>\n",
       "      <td>2000</td>\n",
       "      <td>70.7107</td>\n",
       "      <td>70.6617</td>\n",
       "    </tr>\n",
       "  </tbody>\n",
       "</table>\n",
       "</div>"
      ],
      "text/plain": [
       "         t        x        y\n",
       "1996  1996  70.7107  70.6617\n",
       "1997  1997  70.7107  70.6617\n",
       "1998  1998  70.7107  70.6617\n",
       "1999  1999  70.7107  70.6617\n",
       "2000  2000  70.7107  70.6617"
      ]
     },
     "execution_count": 41,
     "metadata": {},
     "output_type": "execute_result"
    }
   ],
   "source": [
    "df_test_extreme.tail()"
   ]
  },
  {
   "cell_type": "code",
   "execution_count": null,
   "metadata": {
    "collapsed": true
   },
   "outputs": [],
   "source": []
  }
 ],
 "metadata": {
  "anaconda-cloud": {},
  "kernelspec": {
   "display_name": "Python [Root]",
   "language": "python",
   "name": "Python [Root]"
  },
  "language_info": {
   "codemirror_mode": {
    "name": "ipython",
    "version": 2
   },
   "file_extension": ".py",
   "mimetype": "text/x-python",
   "name": "python",
   "nbconvert_exporter": "python",
   "pygments_lexer": "ipython2",
   "version": "2.7.12"
  }
 },
 "nbformat": 4,
 "nbformat_minor": 0
}
