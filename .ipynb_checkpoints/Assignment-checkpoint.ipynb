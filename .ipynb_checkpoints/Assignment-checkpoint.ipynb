{
 "cells": [
  {
   "cell_type": "markdown",
   "metadata": {},
   "source": [
    "# _ ECE WATERLOO ASSIGNMENT _"
   ]
  },
  {
   "cell_type": "code",
   "execution_count": 129,
   "metadata": {
    "collapsed": false
   },
   "outputs": [],
   "source": [
    "# Import libaries\n",
    "%matplotlib inline\n",
    "import matplotlib.pyplot as plt\n",
    "plt.rcParams[\"figure.figsize\"] = [10,9]\n",
    "import pandas as pd\n",
    "import numpy as np\n",
    "from sklearn.preprocessing import PolynomialFeatures\n",
    "from sklearn.model_selection import train_test_split\n",
    "from sklearn.model_selection import GridSearchCV\n",
    "from sklearn.linear_model import Ridge\n",
    "from sklearn.linear_model import RidgeCV\n",
    "from sklearn.linear_model import LassoCV\n",
    "from sklearn.metrics import r2_score\n",
    "from sklearn.metrics import mean_squared_error\n",
    "from sklearn.model_selection import cross_val_score\n",
    "import numpy as np"
   ]
  },
  {
   "cell_type": "markdown",
   "metadata": {},
   "source": [
    "_ Read modified csv file _"
   ]
  },
  {
   "cell_type": "code",
   "execution_count": 43,
   "metadata": {
    "collapsed": true
   },
   "outputs": [],
   "source": [
    "df = pd.read_csv('Data.csv')"
   ]
  },
  {
   "cell_type": "code",
   "execution_count": 44,
   "metadata": {
    "collapsed": false
   },
   "outputs": [],
   "source": [
    "df = df[df.t != 0]"
   ]
  },
  {
   "cell_type": "code",
   "execution_count": 45,
   "metadata": {
    "collapsed": false
   },
   "outputs": [
    {
     "data": {
      "text/html": [
       "<div>\n",
       "<table border=\"1\" class=\"dataframe\">\n",
       "  <thead>\n",
       "    <tr style=\"text-align: right;\">\n",
       "      <th></th>\n",
       "      <th>t</th>\n",
       "      <th>x</th>\n",
       "      <th>y</th>\n",
       "      <th>x_out</th>\n",
       "      <th>y_out</th>\n",
       "    </tr>\n",
       "  </thead>\n",
       "  <tbody>\n",
       "    <tr>\n",
       "      <th>1</th>\n",
       "      <td>1</td>\n",
       "      <td>0.54378</td>\n",
       "      <td>0.20457</td>\n",
       "      <td>0.54378</td>\n",
       "      <td>0.204570</td>\n",
       "    </tr>\n",
       "    <tr>\n",
       "      <th>2</th>\n",
       "      <td>2</td>\n",
       "      <td>0.54378</td>\n",
       "      <td>0.20457</td>\n",
       "      <td>1.08760</td>\n",
       "      <td>0.311140</td>\n",
       "    </tr>\n",
       "    <tr>\n",
       "      <th>3</th>\n",
       "      <td>3</td>\n",
       "      <td>0.54378</td>\n",
       "      <td>0.20457</td>\n",
       "      <td>1.63140</td>\n",
       "      <td>0.319710</td>\n",
       "    </tr>\n",
       "    <tr>\n",
       "      <th>4</th>\n",
       "      <td>4</td>\n",
       "      <td>0.54378</td>\n",
       "      <td>0.20457</td>\n",
       "      <td>2.17510</td>\n",
       "      <td>0.230280</td>\n",
       "    </tr>\n",
       "    <tr>\n",
       "      <th>5</th>\n",
       "      <td>5</td>\n",
       "      <td>0.54378</td>\n",
       "      <td>0.20457</td>\n",
       "      <td>2.71890</td>\n",
       "      <td>0.042855</td>\n",
       "    </tr>\n",
       "  </tbody>\n",
       "</table>\n",
       "</div>"
      ],
      "text/plain": [
       "   t        x        y    x_out     y_out\n",
       "1  1  0.54378  0.20457  0.54378  0.204570\n",
       "2  2  0.54378  0.20457  1.08760  0.311140\n",
       "3  3  0.54378  0.20457  1.63140  0.319710\n",
       "4  4  0.54378  0.20457  2.17510  0.230280\n",
       "5  5  0.54378  0.20457  2.71890  0.042855"
      ]
     },
     "execution_count": 45,
     "metadata": {},
     "output_type": "execute_result"
    }
   ],
   "source": [
    "df.head()"
   ]
  },
  {
   "cell_type": "code",
   "execution_count": 46,
   "metadata": {
    "collapsed": false
   },
   "outputs": [],
   "source": [
    "#Split the input and output from dataframe\n",
    "xy_output = df[['x_out','y_out']].values\n",
    "df = df.drop(['x_out','y_out'],1)\n",
    "X = df.values"
   ]
  },
  {
   "cell_type": "markdown",
   "metadata": {},
   "source": [
    "_ Features Transformation _"
   ]
  },
  {
   "cell_type": "code",
   "execution_count": 47,
   "metadata": {
    "collapsed": false
   },
   "outputs": [],
   "source": [
    "poly = PolynomialFeatures(4)\n",
    "X =poly.fit_transform(X)"
   ]
  },
  {
   "cell_type": "code",
   "execution_count": 48,
   "metadata": {
    "collapsed": false,
    "scrolled": true
   },
   "outputs": [
    {
     "data": {
      "text/plain": [
       "array([ 1.        ,  1.        ,  0.54378   ,  0.20457   ,  1.        ,\n",
       "        0.54378   ,  0.20457   ,  0.29569669,  0.11124107,  0.04184888,\n",
       "        1.        ,  0.54378   ,  0.20457   ,  0.29569669,  0.11124107,\n",
       "        0.04184888,  0.16079395,  0.06049067,  0.02275659,  0.00856103,\n",
       "        1.        ,  0.54378   ,  0.20457   ,  0.29569669,  0.11124107,\n",
       "        0.04184888,  0.16079395,  0.06049067,  0.02275659,  0.00856103,\n",
       "        0.08743653,  0.03289362,  0.01237458,  0.00465531,  0.00175133])"
      ]
     },
     "execution_count": 48,
     "metadata": {},
     "output_type": "execute_result"
    }
   ],
   "source": [
    "X[0]"
   ]
  },
  {
   "cell_type": "markdown",
   "metadata": {},
   "source": [
    "Split data for training and test "
   ]
  },
  {
   "cell_type": "code",
   "execution_count": 49,
   "metadata": {
    "collapsed": true
   },
   "outputs": [],
   "source": [
    "X_train, X_test, xy_pos_train, xy_pos_test = train_test_split(X, xy_output, test_size = 0.2, random_state = 5 )"
   ]
  },
  {
   "cell_type": "markdown",
   "metadata": {},
   "source": [
    "# _ Apply Ridge Regression as our model_"
   ]
  },
  {
   "cell_type": "code",
   "execution_count": 50,
   "metadata": {
    "collapsed": false
   },
   "outputs": [
    {
     "data": {
      "text/plain": [
       "RidgeCV(alphas=(0.0001, 0.001, 0.01, 0.1, 1.0, 10.0, 100), cv=5,\n",
       "    fit_intercept=True, gcv_mode=None, normalize=False, scoring=None,\n",
       "    store_cv_values=False)"
      ]
     },
     "execution_count": 50,
     "metadata": {},
     "output_type": "execute_result"
    }
   ],
   "source": [
    "Ridge_model_x = RidgeCV(alphas=(0.0001,0.001,0.01,0.1, 1.0, 10.0,100),cv = 5)\n",
    "Ridge_model_x.fit(X_train,xy_pos_train[:,0])"
   ]
  },
  {
   "cell_type": "code",
   "execution_count": 51,
   "metadata": {
    "collapsed": false
   },
   "outputs": [
    {
     "data": {
      "text/plain": [
       "RidgeCV(alphas=(0.0001, 0.001, 0.01, 0.1, 1.0, 10.0, 100), cv=5,\n",
       "    fit_intercept=True, gcv_mode=None, normalize=False, scoring=None,\n",
       "    store_cv_values=False)"
      ]
     },
     "execution_count": 51,
     "metadata": {},
     "output_type": "execute_result"
    }
   ],
   "source": [
    "Ridge_model_y = RidgeCV(alphas=(0.0001,0.001,0.01,0.1, 1.0, 10.0,100),cv = 5)\n",
    "Ridge_model_y.fit(X_train,xy_pos_train[:,1])"
   ]
  },
  {
   "cell_type": "code",
   "execution_count": 52,
   "metadata": {
    "collapsed": false
   },
   "outputs": [
    {
     "name": "stdout",
     "output_type": "stream",
     "text": [
      "Coefficient for x with Ridge Regression: [  0.00000000e+00  -5.75886226e-05  -1.78903443e-03  -5.05628154e-04\n",
      "  -5.23021392e-06   1.00021492e+00   2.02888849e-04   2.29212048e-03\n",
      "   4.61435714e-03  -6.48897797e-04   2.03871743e-07   5.39220770e-06\n",
      "   4.66682401e-07  -3.83318743e-05  -5.23035126e-04  -1.00945502e-04\n",
      "  -2.55770413e-03  -6.66375284e-04  -4.28820791e-03   1.19436758e-03\n",
      "   4.53562197e-11  -8.79539829e-08  -1.10719354e-07  -1.06822100e-06\n",
      "  -6.62614120e-07   1.27960537e-06  -1.04533716e-05   8.64355952e-05\n",
      "   2.04419582e-04   3.48486083e-06   1.06531731e-03  -5.67153341e-04\n",
      "   1.04808216e-03   9.32048433e-04  -3.83838847e-04]\n",
      "Coefficient for y with Ridge Regression: [  0.00000000e+00   4.90397165e-02   7.61350822e-04   3.70583179e-05\n",
      "  -4.89991180e-02  -1.28632261e-04   9.99920696e-01   4.70664573e-04\n",
      "  -4.53532168e-03   1.79139045e-03  -1.08903576e-08  -2.09923060e-07\n",
      "  -6.29572419e-07   1.47518863e-05   3.52018156e-04  -4.09302027e-05\n",
      "  -6.03951132e-04   9.26168552e-04   4.80840808e-03  -2.44876967e-03\n",
      "   1.03790093e-09  -4.82519469e-08  -3.25839786e-08   3.45160570e-08\n",
      "   1.40877215e-06   5.31945886e-07  -1.51035097e-05  -8.04730691e-06\n",
      "  -1.83608914e-04   4.40172091e-05   4.10800593e-04  -8.36418966e-04\n",
      "   1.59877114e-04  -1.57122092e-03   8.21428318e-04]\n"
     ]
    }
   ],
   "source": [
    "print 'Coefficient for x with Ridge Regression:', Ridge_model_x.coef_\n",
    "print 'Coefficient for y with Ridge Regression:', Ridge_model_y.coef_"
   ]
  },
  {
   "cell_type": "code",
   "execution_count": 53,
   "metadata": {
    "collapsed": false
   },
   "outputs": [
    {
     "name": "stdout",
     "output_type": "stream",
     "text": [
      "Root Mean Square Error for In-Sample of x with Ridge Regression : 4.37247291434e-08\n",
      "Root Mean Square Error for Out-Sample of x with Ridge Regression :  4.27977852861e-08\n"
     ]
    }
   ],
   "source": [
    "i = Ridge_model_x.predict(X_train)\n",
    "o = Ridge_model_x.predict(X_test)\n",
    "print 'Root Mean Square Error for In-Sample of x with Ridge Regression :', mean_squared_error(xy_pos_train[:,0], i)\n",
    "print 'Root Mean Square Error for Out-Sample of x with Ridge Regression : ', mean_squared_error(xy_pos_test[:,0], o)"
   ]
  },
  {
   "cell_type": "code",
   "execution_count": 54,
   "metadata": {
    "collapsed": false
   },
   "outputs": [
    {
     "name": "stdout",
     "output_type": "stream",
     "text": [
      "Root Mean Square Error for In-Sample of y with Ridge Regression  5.41836696188e-08\n",
      "Root Mean Square Error for Out-Sample of y with Ridge Regression:  6.47784260979e-08\n"
     ]
    }
   ],
   "source": [
    "i = Ridge_model_y.predict(X_train)\n",
    "o = Ridge_model_y.predict(X_test)\n",
    "print 'Root Mean Square Error for In-Sample of y with Ridge Regression ', mean_squared_error(xy_pos_train[:,1], i)\n",
    "print 'Root Mean Square Error for Out-Sample of y with Ridge Regression: ', mean_squared_error(xy_pos_test[:,1], o)"
   ]
  },
  {
   "cell_type": "markdown",
   "metadata": {},
   "source": [
    "# _Apply Lasso Regression as our model_#"
   ]
  },
  {
   "cell_type": "code",
   "execution_count": 107,
   "metadata": {
    "collapsed": false
   },
   "outputs": [
    {
     "data": {
      "text/plain": [
       "LassoCV(alphas=[1e-06, 1e-05, 0.0001, 0.001, 0.01, 0.1, 1.0, 10.0, 100],\n",
       "    copy_X=True, cv=5, eps=0.001, fit_intercept=True, max_iter=1000,\n",
       "    n_alphas=100, n_jobs=1, normalize=False, positive=False,\n",
       "    precompute='auto', random_state=None, selection='cyclic', tol=0.0001,\n",
       "    verbose=False)"
      ]
     },
     "execution_count": 107,
     "metadata": {},
     "output_type": "execute_result"
    }
   ],
   "source": [
    "Lasso_model_x = LassoCV(alphas=[0.000001,0.00001, 0.0001,0.001,0.01,0.1, 1.0, 10.0,100],cv = 5)\n",
    "Lasso_model_x.fit(X_train,xy_pos_train[:,0])"
   ]
  },
  {
   "cell_type": "code",
   "execution_count": 108,
   "metadata": {
    "collapsed": false
   },
   "outputs": [
    {
     "data": {
      "text/plain": [
       "LassoCV(alphas=[1e-06, 1e-05, 0.0001, 0.001, 0.01, 0.1, 1.0, 10.0, 100],\n",
       "    copy_X=True, cv=5, eps=0.001, fit_intercept=True, max_iter=1000,\n",
       "    n_alphas=100, n_jobs=1, normalize=False, positive=False,\n",
       "    precompute='auto', random_state=None, selection='cyclic', tol=0.0001,\n",
       "    verbose=False)"
      ]
     },
     "execution_count": 108,
     "metadata": {},
     "output_type": "execute_result"
    }
   ],
   "source": [
    "Lasso_model_y = LassoCV(alphas=[0.000001,0.00001, 0.0001,0.001,0.01,0.1, 1.0, 10.0,100],cv = 5)\n",
    "Lasso_model_y.fit(X_train,xy_pos_train[:,1])"
   ]
  },
  {
   "cell_type": "code",
   "execution_count": 109,
   "metadata": {
    "collapsed": false
   },
   "outputs": [
    {
     "name": "stdout",
     "output_type": "stream",
     "text": [
      "Coefficient for x with Lasso Regression: [  0.00000000e+00   3.73060324e-02   3.72981910e-01  -6.36663882e-02\n",
      "   3.36468988e-03   8.82805800e-01  -1.04495535e-01  -1.44399920e-01\n",
      "   1.70918548e-01   3.76274855e-01  -8.09314838e-05   4.36641447e-03\n",
      "  -8.27285595e-04   8.59874224e-02   3.16203164e-02   3.13139584e-02\n",
      "  -1.92079700e-01  -2.06754365e-01  -3.11245187e-01   1.34142453e-03\n",
      "   2.32263527e-06  -1.11637737e-05  -3.77967954e-05  -2.22667327e-03\n",
      "  -1.37840946e-03   1.66128381e-04  -2.34326047e-02   1.18458573e-02\n",
      "   2.57121535e-03   8.24232464e-03   1.26039261e-01   3.64171101e-02\n",
      "   7.75429270e-02   4.78691489e-02  -9.95952778e-02]\n",
      "Coefficient for y with Lasso Regression: [  0.00000000e+00  -5.61321513e-03  -8.42972776e-02   7.46374173e-01\n",
      "  -3.07795175e-02   9.41046607e-02   6.69056556e-01  -8.61637214e-02\n",
      "  -7.81256698e-01   3.88412378e-01  -6.44088503e-04  -1.08600700e-02\n",
      "   5.65304686e-03  -1.55735099e-02   1.54810580e-01   1.15684097e-01\n",
      "   2.87446626e-01  -1.92726759e-01  -6.94072100e-03  -2.32765785e-01\n",
      "   1.39893639e-05   2.60703549e-04  -2.10689854e-04   1.43408404e-03\n",
      "  -3.70881440e-03  -1.44537022e-03  -1.26304225e-02  -8.55681802e-03\n",
      "  -1.87184520e-02   1.65147441e-02  -1.29108507e-01   2.51166457e-01\n",
      "  -7.08831306e-02   9.69855640e-02  -9.85828494e-02]\n"
     ]
    }
   ],
   "source": [
    "print 'Coefficient for x with Lasso Regression:', Lasso_model_x.coef_\n",
    "print 'Coefficient for y with Lasso Regression:', Lasso_model_y.coef_"
   ]
  },
  {
   "cell_type": "code",
   "execution_count": 110,
   "metadata": {
    "collapsed": false
   },
   "outputs": [
    {
     "name": "stdout",
     "output_type": "stream",
     "text": [
      "Root Mean Square Error for In-Sample of x with Lasso Regression : 0.00151117643239\n",
      "Root Mean Square Error for Out-Sample of x with Lasso Regression :  0.00173509331661\n"
     ]
    }
   ],
   "source": [
    "i = Lasso_model_x.predict(X_train)\n",
    "o = Lasso_model_x.predict(X_test)\n",
    "print 'Root Mean Square Error for In-Sample of x with Lasso Regression :', mean_squared_error(xy_pos_train[:,0], i)\n",
    "print 'Root Mean Square Error for Out-Sample of x with Lasso Regression : ', mean_squared_error(xy_pos_test[:,0], o)"
   ]
  },
  {
   "cell_type": "code",
   "execution_count": 111,
   "metadata": {
    "collapsed": false
   },
   "outputs": [
    {
     "name": "stdout",
     "output_type": "stream",
     "text": [
      "Root Mean Square Error for In-Sample of y with Lasso Regression : 0.00877431861895\n",
      "Root Mean Square Error for Out-Sample of y with Lasso Regression :  0.0096731736466\n"
     ]
    }
   ],
   "source": [
    "i = Lasso_model_y.predict(X_train)\n",
    "o = Lasso_model_y.predict(X_test)\n",
    "print 'Root Mean Square Error for In-Sample of y with Lasso Regression :', mean_squared_error(xy_pos_train[:,1], i)\n",
    "print 'Root Mean Square Error for Out-Sample of y with Lasso Regression : ', mean_squared_error(xy_pos_test[:,1], o)"
   ]
  },
  {
   "cell_type": "markdown",
   "metadata": {},
   "source": [
    "# _Predict the trajectory of a projectile launched at 45 degrees with an initial velocity of 10 m/s till it hits the ground or timeindex=100 whichever is earlier_"
   ]
  },
  {
   "cell_type": "code",
   "execution_count": 112,
   "metadata": {
    "collapsed": false
   },
   "outputs": [
    {
     "data": {
      "text/html": [
       "<div>\n",
       "<table border=\"1\" class=\"dataframe\">\n",
       "  <thead>\n",
       "    <tr style=\"text-align: right;\">\n",
       "      <th></th>\n",
       "      <th>t</th>\n",
       "      <th>x</th>\n",
       "      <th>y</th>\n",
       "    </tr>\n",
       "  </thead>\n",
       "  <tbody>\n",
       "    <tr>\n",
       "      <th>0</th>\n",
       "      <td>1</td>\n",
       "      <td>0.707107</td>\n",
       "      <td>0.658107</td>\n",
       "    </tr>\n",
       "    <tr>\n",
       "      <th>1</th>\n",
       "      <td>2</td>\n",
       "      <td>0.707107</td>\n",
       "      <td>0.658107</td>\n",
       "    </tr>\n",
       "    <tr>\n",
       "      <th>2</th>\n",
       "      <td>3</td>\n",
       "      <td>0.707107</td>\n",
       "      <td>0.658107</td>\n",
       "    </tr>\n",
       "    <tr>\n",
       "      <th>3</th>\n",
       "      <td>4</td>\n",
       "      <td>0.707107</td>\n",
       "      <td>0.658107</td>\n",
       "    </tr>\n",
       "    <tr>\n",
       "      <th>4</th>\n",
       "      <td>5</td>\n",
       "      <td>0.707107</td>\n",
       "      <td>0.658107</td>\n",
       "    </tr>\n",
       "  </tbody>\n",
       "</table>\n",
       "</div>"
      ],
      "text/plain": [
       "   t         x         y\n",
       "0  1  0.707107  0.658107\n",
       "1  2  0.707107  0.658107\n",
       "2  3  0.707107  0.658107\n",
       "3  4  0.707107  0.658107\n",
       "4  5  0.707107  0.658107"
      ]
     },
     "execution_count": 112,
     "metadata": {},
     "output_type": "execute_result"
    }
   ],
   "source": [
    "#Read the formatted output file\n",
    "predict_df = pd.read_csv('out_45_10.csv')\n",
    "predict_df.head()"
   ]
  },
  {
   "cell_type": "code",
   "execution_count": 113,
   "metadata": {
    "collapsed": false
   },
   "outputs": [],
   "source": [
    "X_input = poly.fit_transform(predict_df.values)"
   ]
  },
  {
   "cell_type": "code",
   "execution_count": 125,
   "metadata": {
    "collapsed": false
   },
   "outputs": [
    {
     "name": "stdout",
     "output_type": "stream",
     "text": [
      "[ 0.70717171  1.41428475  2.12139582  2.82850533  3.53561371  4.24272137\n",
      "  4.94982873  5.6569362   6.36404422  7.07115321  7.77826358  8.48537576\n",
      "  9.19249017  9.89960725]\n",
      "[ 0.65808726  1.21819561  1.68030567  2.04441709  2.31052956  2.4786428\n",
      "  2.54875653  2.52087054  2.3949846   2.17109852  1.84921215  1.42932535\n",
      "  0.91143801  0.29555003]\n"
     ]
    }
   ],
   "source": [
    "x_output_Ridge = Ridge_model_x.predict(X_input)\n",
    "y_output_Ridge = Ridge_model_y.predict(X_input)\n",
    "y_output_Ridge_stop = y_output_Ridge[y_output_Ridge>0]\n",
    "x_output_Ridge_stop = x_output_Ridge[0:len(y_output_Ridge_stop)]\n",
    "print x_output_Ridge_stop\n",
    "print y_output_Ridge_stop"
   ]
  },
  {
   "cell_type": "code",
   "execution_count": 130,
   "metadata": {
    "collapsed": false
   },
   "outputs": [
    {
     "data": {
      "text/plain": [
       "[<matplotlib.lines.Line2D at 0xe856fd0>]"
      ]
     },
     "execution_count": 130,
     "metadata": {},
     "output_type": "execute_result"
    },
    {
     "data": {
      "image/png": "[encoded data removed]",
      "text/plain": [
       "<matplotlib.figure.Figure at 0xdedc128>"
      ]
     },
     "metadata": {},
     "output_type": "display_data"
    }
   ],
   "source": [
    "plt.subplot(2, 1, 1)\n",
    "plt.plot(x_output_Ridge_stop, y_output_Ridge_stop)\n",
    "plt.subplot(2, 1, 2)\n",
    "plt.plot(x_output_Ridge, y_output_Ridge)"
   ]
  },
  {
   "cell_type": "code",
   "execution_count": 133,
   "metadata": {
    "collapsed": false
   },
   "outputs": [
    {
     "name": "stdout",
     "output_type": "stream",
     "text": [
      "14\n",
      "[   0.7657445     1.44045352    2.12236414    2.81093354    3.5056746\n",
      "    4.20615599    4.91200208    5.62289301    6.33856466    7.05880864\n",
      "    7.78347232    8.51245879    9.24572692    9.98329129   10.72522224\n",
      "   11.47164584   12.22274392   12.97875404   13.73996951   14.50673938\n",
      "   15.27946845   16.05861725   16.84470206   17.63829491   18.44002357\n",
      "   19.25057155   20.07067809   20.90113821   21.74280263   22.59657785\n",
      "   23.46342609   24.34436531   25.24046924   26.15286733   27.08274478\n",
      "   28.03134253   28.99995728   29.98994144   31.0027032    32.03970646\n",
      "   33.1024709    34.1925719    35.31164062   36.46136395   37.64348452\n",
      "   38.8598007    40.11216661   41.40249212   42.73274284   44.1049401\n",
      "   45.521161     46.98353838   48.49426082   50.05557264   51.66977389\n",
      "   53.3392204    55.06632371   56.85355111   58.70342565   60.61852611\n",
      "   62.601487     64.6549986    66.78180692   68.98471372   71.26657648\n",
      "   73.63030846   76.07887863   78.61531172   81.2426882    83.96414429\n",
      "   86.78287194   89.70211886   92.72518848   95.85543999   99.09628833\n",
      "  102.45120416  105.92371391  109.51739972  113.23589952  117.08290693\n",
      "  121.06217135  125.17749792  129.4327475   133.83183672  138.37873794\n",
      "  143.07747927  147.93214455  152.94687338  158.12586109  163.47335876\n",
      "  168.99367321  174.69116701  180.57025847  186.63542163  192.8911863\n",
      "  199.342138    205.99291803  212.8482234   219.91280688  227.19147699]\n",
      "[  7.46157941e-01   1.24034997e+00   1.65531407e+00   1.98829922e+00\n",
      "   2.23689012e+00   2.39900723e+00   2.47290674e+00   2.45718060e+00\n",
      "   2.35075649e+00   2.15289785e+00   1.86320385e+00   1.48160941e+00\n",
      "   1.00838521e+00   4.44137647e-01  -2.10191116e-01  -9.53323181e-01\n",
      "  -1.78364490e+00  -2.69920689e+00  -3.69772401e+00  -4.77657538e+00\n",
      "  -5.93280438e+00  -7.16311863e+00  -8.46389003e+00  -9.83115472e+00\n",
      "  -1.12606131e+01  -1.27476298e+01  -1.42872338e+01  -1.58741181e+01\n",
      "  -1.75026403e+01  -1.91668220e+01  -2.08603491e+01  -2.25765718e+01\n",
      "  -2.43085045e+01  -2.60488260e+01  -2.77898792e+01  -2.95236713e+01\n",
      "  -3.12418737e+01  -3.29358222e+01  -3.45965168e+01  -3.62146216e+01\n",
      "  -3.77804652e+01  -3.92840403e+01  -4.07150038e+01  -4.20626770e+01\n",
      "  -4.33160455e+01  -4.44637590e+01  -4.54941315e+01  -4.63951412e+01\n",
      "  -4.71544307e+01  -4.77593068e+01  -4.81967405e+01  -4.84533670e+01\n",
      "  -4.85154860e+01  -4.83690613e+01  -4.79997208e+01  -4.73927569e+01\n",
      "  -4.65331262e+01  -4.54054494e+01  -4.39940118e+01  -4.22827625e+01\n",
      "  -4.02553152e+01  -3.78949477e+01  -3.51846021e+01  -3.21068848e+01\n",
      "  -2.86440664e+01  -2.47780817e+01  -2.04905298e+01  -1.57626742e+01\n",
      "  -1.05754425e+01  -4.90942645e+00   1.25511767e+00   7.93826953e+00\n",
      "   1.51604445e+01   2.29423936e+01   3.13052037e+01   4.02702974e+01\n",
      "   4.98594330e+01   6.00947046e+01   7.09985421e+01   8.25937109e+01\n",
      "   9.49033124e+01   1.07950784e+02   1.21759897e+02   1.36354762e+02\n",
      "   1.51759823e+02   1.67999858e+02   1.85099985e+02   2.03085655e+02\n",
      "   2.21982654e+02   2.41817106e+02   2.62615471e+02   2.84404541e+02\n",
      "   3.07211448e+02   3.31063657e+02   3.55988971e+02   3.82015526e+02\n",
      "   4.09171796e+02   4.37486590e+02   4.66989053e+02   4.97708665e+02]\n"
     ]
    }
   ],
   "source": [
    "x_output_Lasso = Lasso_model_x.predict(X_input)\n",
    "y_output_Lasso = Lasso_model_y.predict(X_input)\n",
    "_less_than_0= np.argmax(y_output_Lasso < 0)\n",
    "print _less_than_0\n",
    "y_output_Lasso_stop = y_output_Lasso[0:_less_than_0]\n",
    "x_output_Lasso_stop = x_output_Lasso[0:_less_than_0]\n",
    "print x_output_Lasso\n",
    "print y_output_Lasso"
   ]
  },
  {
   "cell_type": "code",
   "execution_count": 134,
   "metadata": {
    "collapsed": false
   },
   "outputs": [
    {
     "data": {
      "text/plain": [
       "[<matplotlib.lines.Line2D at 0xec79358>]"
      ]
     },
     "execution_count": 134,
     "metadata": {},
     "output_type": "execute_result"
    },
    {
     "data": {
      "image/png": "[encoded data removed]",
      "text/plain": [
       "<matplotlib.figure.Figure at 0xea37080>"
      ]
     },
     "metadata": {},
     "output_type": "display_data"
    }
   ],
   "source": [
    "plt.subplot(2, 1, 1)\n",
    "plt.plot(x_output_Ridge_stop, y_output_Ridge_stop)\n",
    "plt.subplot(2, 1, 2)\n",
    "plt.plot(x_output_Lasso, y_output_Lasso)"
   ]
  },
  {
   "cell_type": "code",
   "execution_count": null,
   "metadata": {
    "collapsed": true
   },
   "outputs": [],
   "source": []
  },
  {
   "cell_type": "code",
   "execution_count": null,
   "metadata": {
    "collapsed": true
   },
   "outputs": [],
   "source": []
  },
  {
   "cell_type": "code",
   "execution_count": null,
   "metadata": {
    "collapsed": true
   },
   "outputs": [],
   "source": []
  }
 ],
 "metadata": {
  "kernelspec": {
   "display_name": "Python [Root]",
   "language": "python",
   "name": "Python [Root]"
  },
  "language_info": {
   "codemirror_mode": {
    "name": "ipython",
    "version": 2
   },
   "file_extension": ".py",
   "mimetype": "text/x-python",
   "name": "python",
   "nbconvert_exporter": "python",
   "pygments_lexer": "ipython2",
   "version": "2.7.12"
  }
 },
 "nbformat": 4,
 "nbformat_minor": 0
}
