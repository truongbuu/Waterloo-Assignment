{
 "cells": [
  {
   "cell_type": "markdown",
   "metadata": {},
   "source": [
    "# _ ECE WATERLOO ASSIGNMENT _"
   ]
  },
  {
   "cell_type": "code",
   "execution_count": null,
   "metadata": {
    "collapsed": false
   },
   "outputs": [],
   "source": [
    "# Import libaries\n",
    "%matplotlib inline\n",
    "import matplotlib.pyplot as plt\n",
    "plt.rcParams[\"figure.figsize\"] = [15,18]\n",
    "import pandas as pd\n",
    "import numpy as np\n",
    "from sklearn.preprocessing import PolynomialFeatures\n",
    "from sklearn.model_selection import train_test_split\n",
    "from sklearn.model_selection import GridSearchCV\n",
    "from sklearn.linear_model import Ridge\n",
    "from sklearn.linear_model import RidgeCV\n",
    "from sklearn.linear_model import LassoCV\n",
    "from sklearn.metrics import r2_score\n",
    "from sklearn.metrics import mean_squared_error\n",
    "from sklearn.model_selection import cross_val_score\n",
    "import numpy as np"
   ]
  },
  {
   "cell_type": "markdown",
   "metadata": {},
   "source": [
    "_ Read modified csv file _"
   ]
  },
  {
   "cell_type": "code",
   "execution_count": null,
   "metadata": {
    "collapsed": true
   },
   "outputs": [],
   "source": [
    "df = pd.read_csv('Data.csv')"
   ]
  },
  {
   "cell_type": "code",
   "execution_count": null,
   "metadata": {
    "collapsed": false
   },
   "outputs": [],
   "source": [
    "#df = df[df.t != 0]"
   ]
  },
  {
   "cell_type": "code",
   "execution_count": null,
   "metadata": {
    "collapsed": false
   },
   "outputs": [],
   "source": [
    "df.head()"
   ]
  },
  {
   "cell_type": "code",
   "execution_count": null,
   "metadata": {
    "collapsed": false
   },
   "outputs": [],
   "source": [
    "#Split the input and output from dataframe\n",
    "xy_output = df[['x_out','y_out']].values\n",
    "df = df.drop(['x_out','y_out'],1)\n",
    "X = df.values"
   ]
  },
  {
   "cell_type": "markdown",
   "metadata": {},
   "source": [
    "_ Features Transformation _"
   ]
  },
  {
   "cell_type": "code",
   "execution_count": null,
   "metadata": {
    "collapsed": false
   },
   "outputs": [],
   "source": [
    "poly = PolynomialFeatures(5)\n",
    "X =poly.fit_transform(X)"
   ]
  },
  {
   "cell_type": "code",
   "execution_count": null,
   "metadata": {
    "collapsed": false,
    "scrolled": true
   },
   "outputs": [],
   "source": [
    "print X[0]\n",
    "print len(X[0])"
   ]
  },
  {
   "cell_type": "markdown",
   "metadata": {},
   "source": [
    "Split data for training and test "
   ]
  },
  {
   "cell_type": "code",
   "execution_count": null,
   "metadata": {
    "collapsed": true
   },
   "outputs": [],
   "source": [
    "X_train, X_test, xy_pos_train, xy_pos_test = train_test_split(X, xy_output, test_size = 0.2, random_state = 5 )"
   ]
  },
  {
   "cell_type": "markdown",
   "metadata": {},
   "source": [
    "# _ Apply Ridge Regression as our model_"
   ]
  },
  {
   "cell_type": "code",
   "execution_count": null,
   "metadata": {
    "collapsed": false
   },
   "outputs": [],
   "source": [
    "Ridge_model_x = RidgeCV(alphas=(0.0001,0.001,0.01,0.1, 1.0, 10.0,100),cv = 5)\n",
    "Ridge_model_x.fit(X_train,xy_pos_train[:,0])"
   ]
  },
  {
   "cell_type": "code",
   "execution_count": null,
   "metadata": {
    "collapsed": false
   },
   "outputs": [],
   "source": [
    "Ridge_model_y = RidgeCV(alphas=(0.0001,0.001,0.01,0.1, 1.0, 10.0,100,1000,10000),cv = 5)\n",
    "Ridge_model_y.fit(X_train,xy_pos_train[:,1])"
   ]
  },
  {
   "cell_type": "code",
   "execution_count": null,
   "metadata": {
    "collapsed": false
   },
   "outputs": [],
   "source": [
    "print 'Coefficient for x with Ridge Regression:', Ridge_model_x.coef_\n",
    "print 'Coefficient for y with Ridge Regression:', Ridge_model_y.coef_"
   ]
  },
  {
   "cell_type": "code",
   "execution_count": null,
   "metadata": {
    "collapsed": false
   },
   "outputs": [],
   "source": [
    "i = Ridge_model_x.predict(X_train)\n",
    "o = Ridge_model_x.predict(X_test)\n",
    "print 'Root Mean Square Error for In-Sample of x with Ridge Regression :', np.sqrt(mean_squared_error(xy_pos_train[:,0], i))\n",
    "print 'Root Mean Square Error for Out-Sample of x with Ridge Regression : ', np.sqrt(mean_squared_error(xy_pos_test[:,0], o))"
   ]
  },
  {
   "cell_type": "code",
   "execution_count": null,
   "metadata": {
    "collapsed": false
   },
   "outputs": [],
   "source": [
    "i = Ridge_model_y.predict(X_train)\n",
    "o = Ridge_model_y.predict(X_test)\n",
    "print 'Root Mean Square Error for In-Sample of y with Ridge Regression ', np.sqrt(mean_squared_error(xy_pos_train[:,1], i))\n",
    "print 'Root Mean Square Error for Out-Sample of y with Ridge Regression: ', np.sqrt(mean_squared_error(xy_pos_test[:,1], o))"
   ]
  },
  {
   "cell_type": "code",
   "execution_count": null,
   "metadata": {
    "collapsed": false
   },
   "outputs": [],
   "source": [
    "ix = Ridge_model_x.predict(X_train)\n",
    "ox = Ridge_model_x.predict(X_test)\n",
    "\n",
    "iy = Ridge_model_y.predict(X_train)\n",
    "oy = Ridge_model_y.predict(X_test)\n",
    "print 'Root Mean Square Error for In-Sample with Ridge Regression ', np.sqrt(mean_squared_error(xy_pos_train, np.vstack((ix,iy)).T))\n",
    "print 'Root Mean Square Error for Out-Sample with Ridge Regression: ', np.sqrt(mean_squared_error(xy_pos_test, np.vstack((ox,oy)).T))\n"
   ]
  },
  {
   "cell_type": "markdown",
   "metadata": {},
   "source": [
    "# _Apply Lasso Regression as our model_#"
   ]
  },
  {
   "cell_type": "code",
   "execution_count": null,
   "metadata": {
    "collapsed": false
   },
   "outputs": [],
   "source": [
    "Lasso_model_x = LassoCV(alphas=[0.000001,0.00001, 0.0001,0.001,0.01,0.1, 1.0, 10.0,100,1000,10000],cv = 5)\n",
    "Lasso_model_x.fit(X_train,xy_pos_train[:,0])"
   ]
  },
  {
   "cell_type": "code",
   "execution_count": null,
   "metadata": {
    "collapsed": false
   },
   "outputs": [],
   "source": [
    "Lasso_model_y = LassoCV(alphas=[0.000001,0.00001, 0.0001,0.001,0.01,0.1, 1.0, 10.0,100,1000,10000],cv = 5)\n",
    "Lasso_model_y.fit(X_train,xy_pos_train[:,1])"
   ]
  },
  {
   "cell_type": "code",
   "execution_count": null,
   "metadata": {
    "collapsed": false
   },
   "outputs": [],
   "source": [
    "print 'Coefficient for x with Lasso Regression:', Lasso_model_x.coef_\n",
    "print 'Coefficient for y with Lasso Regression:', Lasso_model_y.coef_"
   ]
  },
  {
   "cell_type": "code",
   "execution_count": null,
   "metadata": {
    "collapsed": false
   },
   "outputs": [],
   "source": [
    "i = Lasso_model_x.predict(X_train)\n",
    "o = Lasso_model_x.predict(X_test)\n",
    "print 'Root Mean Square Error for In-Sample of x with Lasso Regression :', np.sqrt(mean_squared_error(xy_pos_train[:,0], i))\n",
    "print 'Root Mean Square Error for Out-Sample of x with Lasso Regression : ', np.sqrt(mean_squared_error(xy_pos_test[:,0], o))"
   ]
  },
  {
   "cell_type": "code",
   "execution_count": null,
   "metadata": {
    "collapsed": false
   },
   "outputs": [],
   "source": [
    "i = Lasso_model_y.predict(X_train)\n",
    "o = Lasso_model_y.predict(X_test)\n",
    "print 'Root Mean Square Error for In-Sample of y with Lasso Regression :', np.sqrt(mean_squared_error(xy_pos_train[:,1], i))\n",
    "print 'Root Mean Square Error for Out-Sample of y with Lasso Regression : ', np.sqrt(mean_squared_error(xy_pos_test[:,1], o))"
   ]
  },
  {
   "cell_type": "code",
   "execution_count": null,
   "metadata": {
    "collapsed": false
   },
   "outputs": [],
   "source": [
    "ix = Lasso_model_x.predict(X_train)\n",
    "ox = Lasso_model_x.predict(X_test)\n",
    "\n",
    "iy = Lasso_model_y.predict(X_train)\n",
    "oy = Lasso_model_y.predict(X_test)\n",
    "print 'Root Mean Square Error for In-Sample with Ridge Regression ', np.sqrt(mean_squared_error(xy_pos_train, np.vstack((ix,iy)).T))\n",
    "print 'Root Mean Square Error for Out-Sample with Ridge Regression: ', np.sqrt(mean_squared_error(xy_pos_test, np.vstack((ox,oy)).T))\n"
   ]
  },
  {
   "cell_type": "markdown",
   "metadata": {},
   "source": [
    "# _Predict the trajectory of a projectile launched at 45 degrees with an initial velocity of 10 m/s till it hits the ground or timeindex=100 whichever is earlier_"
   ]
  },
  {
   "cell_type": "code",
   "execution_count": null,
   "metadata": {
    "collapsed": false
   },
   "outputs": [],
   "source": [
    "#Read the formatted output file\n",
    "predict_df = pd.read_csv('out_45_10.csv')\n",
    "predict_df.head()"
   ]
  },
  {
   "cell_type": "code",
   "execution_count": null,
   "metadata": {
    "collapsed": false
   },
   "outputs": [],
   "source": [
    "#Read the prepared ground truth\n",
    "ground_truth = pd.read_csv('Ground_truth.csv')\n",
    "X_truth = ground_truth['x'].values\n",
    "Y_truth = ground_truth['y'].values\n",
    "Y_truth_stop = Y_truth[Y_truth>=0]\n",
    "X_truth_stop = X_truth[0:len(Y_truth_stop)]\n",
    "ground_truth.head()\n"
   ]
  },
  {
   "cell_type": "code",
   "execution_count": null,
   "metadata": {
    "collapsed": false
   },
   "outputs": [],
   "source": [
    "X_input = poly.fit_transform(predict_df.values)"
   ]
  },
  {
   "cell_type": "markdown",
   "metadata": {},
   "source": [
    "Apply the model to the data set"
   ]
  },
  {
   "cell_type": "code",
   "execution_count": null,
   "metadata": {
    "collapsed": false
   },
   "outputs": [],
   "source": [
    "#This block output the trajectories of the projectile based on Ridge Regression Model\n",
    "x_output_Ridge = Ridge_model_x.predict(X_input)\n",
    "y_output_Ridge = Ridge_model_y.predict(X_input)\n",
    "y_output_Ridge_stop = y_output_Ridge[y_output_Ridge>=0]\n",
    "x_output_Ridge_stop = x_output_Ridge[0:len(y_output_Ridge_stop)]\n",
    "print x_output_Ridge_stop\n",
    "print y_output_Ridge_stop"
   ]
  },
  {
   "cell_type": "code",
   "execution_count": null,
   "metadata": {
    "collapsed": false
   },
   "outputs": [],
   "source": [
    "#This block output the trajectories of the projectile based on Lasso Regression model\n",
    "x_output_Lasso = Lasso_model_x.predict(X_input)\n",
    "y_output_Lasso = Lasso_model_y.predict(X_input)\n",
    "_less_than_0= np.argmax(y_output_Lasso < 0)\n",
    "print _less_than_0\n",
    "y_output_Lasso_stop = y_output_Lasso[0:_less_than_0]\n",
    "x_output_Lasso_stop = x_output_Lasso[0:_less_than_0]\n",
    "print x_output_Lasso_stop\n",
    "print y_output_Lasso_stop"
   ]
  },
  {
   "cell_type": "markdown",
   "metadata": {},
   "source": [
    "# _Plot the trajectories of the 2 models and the ground truth (based on Physics) _"
   ]
  },
  {
   "cell_type": "code",
   "execution_count": null,
   "metadata": {
    "collapsed": false
   },
   "outputs": [],
   "source": [
    "plt.rcParams[\"figure.figsize\"] = [10,9]\n",
    "plt.subplot(2, 1, 1)\n",
    "a0= plt.plot(x_output_Lasso_stop, y_output_Lasso_stop, label = 'Lasso')\n",
    "a1= plt.plot(x_output_Ridge_stop, y_output_Ridge_stop, label = 'Ridge')\n",
    "a2= plt.plot(X_truth_stop , Y_truth_stop,'o', label = 'Ground truth')\n",
    "plt.legend()\n",
    "plt.title('Trajectory of the projectile before hitting the ground')\n",
    "plt.xlabel('x')\n",
    "plt.ylabel('y')\n",
    "plt.show()\n",
    "\n",
    "plt.subplot(2, 1, 2)\n",
    "a0= plt.plot(x_output_Lasso, y_output_Lasso, label = 'Lasso')\n",
    "a1 = plt.plot(x_output_Ridge, y_output_Ridge, label = 'Ridge')\n",
    "a2 = plt.plot(X_truth , Y_truth,'o', label = 'Ground truth')\n",
    "plt.legend(bbox_to_anchor=(0.25, 1))\n",
    "plt.title('Trajectory of the projectile ignore hitting the ground')\n",
    "plt.xlabel('x')\n",
    "plt.ylabel('y')\n",
    "plt.show()\n",
    "\n",
    "\n",
    "plt.savefig('trajectories_test.png')"
   ]
  },
  {
   "cell_type": "markdown",
   "metadata": {},
   "source": [
    "# _Output csv file for submission (Ridge Regression only)_#"
   ]
  },
  {
   "cell_type": "code",
   "execution_count": null,
   "metadata": {
    "collapsed": false
   },
   "outputs": [],
   "source": [
    "predict_df['x_out'] = x_output_Ridge\n",
    "predict_df['y_out'] = y_output_Ridge\n",
    "tem_df = pd.DataFrame([[0,0,0,0,0]], columns=predict_df.columns)"
   ]
  },
  {
   "cell_type": "code",
   "execution_count": null,
   "metadata": {
    "collapsed": false
   },
   "outputs": [],
   "source": [
    "tem_df = tem_df.append(predict_df,ignore_index=True)\n",
    "out_df = tem_df[tem_df['y_out'] >= 0]"
   ]
  },
  {
   "cell_type": "code",
   "execution_count": null,
   "metadata": {
    "collapsed": false
   },
   "outputs": [],
   "source": [
    "out_df = out_df[['t','x_out','y_out']]\n",
    "out_df.columns = ['[time_collect]', '[x]', '[y]']"
   ]
  },
  {
   "cell_type": "code",
   "execution_count": null,
   "metadata": {
    "collapsed": false
   },
   "outputs": [],
   "source": [
    "out_df"
   ]
  },
  {
   "cell_type": "code",
   "execution_count": null,
   "metadata": {
    "collapsed": false
   },
   "outputs": [],
   "source": [
    "out_df.to_csv('submission.csv',header=False, index= False)"
   ]
  },
  {
   "cell_type": "markdown",
   "metadata": {
    "collapsed": true
   },
   "source": [
    "# _ Visualization of model performance with v = 1000 and 45 degree angle_"
   ]
  },
  {
   "cell_type": "code",
   "execution_count": null,
   "metadata": {
    "collapsed": false
   },
   "outputs": [],
   "source": [
    "df_test_extreme = pd.read_csv('DataforExtreme.csv')\n",
    "df_test_extreme.head()"
   ]
  },
  {
   "cell_type": "code",
   "execution_count": null,
   "metadata": {
    "collapsed": true
   },
   "outputs": [],
   "source": [
    "X_test_extreme = df_test_extreme.values\n",
    "X_test_extreme = poly.fit_transform(X_test_extreme)\n",
    "x_test_extreme = Ridge_model_x.predict(X_test_extreme)\n",
    "y_test_extreme = Ridge_model_y.predict(X_test_extreme)"
   ]
  },
  {
   "cell_type": "code",
   "execution_count": null,
   "metadata": {
    "collapsed": false
   },
   "outputs": [],
   "source": [
    "ground_truth_extreme = pd.read_csv('Ground_truth_extreme.csv')\n",
    "ground_truth_extreme.head()"
   ]
  },
  {
   "cell_type": "code",
   "execution_count": null,
   "metadata": {
    "collapsed": true
   },
   "outputs": [],
   "source": [
    "x_real_extreme = ground_truth_extreme['x'].values\n",
    "y_real_extreme = ground_truth_extreme['y'].values"
   ]
  },
  {
   "cell_type": "code",
   "execution_count": null,
   "metadata": {
    "collapsed": false
   },
   "outputs": [],
   "source": [
    "x_test_extreme"
   ]
  },
  {
   "cell_type": "code",
   "execution_count": null,
   "metadata": {
    "collapsed": false
   },
   "outputs": [],
   "source": [
    "x_real_extreme"
   ]
  },
  {
   "cell_type": "code",
   "execution_count": null,
   "metadata": {
    "collapsed": false
   },
   "outputs": [],
   "source": [
    "plt.rcParams[\"figure.figsize\"] = [7,7]\n",
    "a1 = plt.plot(np.log(x_test_extreme[0:1000]), np.log(y_test_extreme[0:1000]), label = 'Ridge')\n",
    "a2 = plt.plot(np.log(x_real_extreme[0:1000]) , np.log(y_real_extreme[0:1000]),'o', label = 'Ground truth')\n",
    "plt.legend()\n",
    "plt.legend(bbox_to_anchor=(0.4, 1))\n",
    "plt.title('Trajectory of the projectile ignore hitting the ground (log scale for x and y)')\n",
    "plt.xlabel('log(x)')\n",
    "plt.ylabel('log(y)')\n",
    "plt.savefig('trajectories_test_extreme.png')"
   ]
  },
  {
   "cell_type": "code",
   "execution_count": null,
   "metadata": {
    "collapsed": false
   },
   "outputs": [],
   "source": [
    "print 'Root Mean Square Error under Extreme launch: ', np.sqrt(mean_squared_error(ground_truth_extreme.values, np.vstack((x_test_extreme[0:2000],y_test_extreme[0:2000])).T))\n"
   ]
  },
  {
   "cell_type": "code",
   "execution_count": null,
   "metadata": {
    "collapsed": false
   },
   "outputs": [],
   "source": [
    "ground_truth_extreme.tail()"
   ]
  },
  {
   "cell_type": "code",
   "execution_count": null,
   "metadata": {
    "collapsed": false
   },
   "outputs": [],
   "source": [
    "df_test_extreme.tail()"
   ]
  },
  {
   "cell_type": "code",
   "execution_count": null,
   "metadata": {
    "collapsed": true
   },
   "outputs": [],
   "source": []
  }
 ],
 "metadata": {
  "anaconda-cloud": {},
  "kernelspec": {
   "display_name": "Python [Root]",
   "language": "python",
   "name": "Python [Root]"
  },
  "language_info": {
   "codemirror_mode": {
    "name": "ipython",
    "version": 2
   },
   "file_extension": ".py",
   "mimetype": "text/x-python",
   "name": "python",
   "nbconvert_exporter": "python",
   "pygments_lexer": "ipython2",
   "version": "2.7.12"
  }
 },
 "nbformat": 4,
 "nbformat_minor": 0
}
