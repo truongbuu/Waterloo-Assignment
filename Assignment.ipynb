{
 "cells": [
  {
   "cell_type": "markdown",
   "metadata": {},
   "source": [
    "# _ ECE WATERLOO ASSIGNMENT _"
   ]
  },
  {
   "cell_type": "code",
   "execution_count": 1,
   "metadata": {
    "collapsed": false
   },
   "outputs": [],
   "source": [
    "# Import libaries\n",
    "%matplotlib inline\n",
    "import matplotlib.pyplot as plt\n",
    "plt.rcParams[\"figure.figsize\"] = [15,18]\n",
    "import pandas as pd\n",
    "import numpy as np\n",
    "from sklearn.preprocessing import PolynomialFeatures\n",
    "from sklearn.model_selection import train_test_split\n",
    "from sklearn.model_selection import GridSearchCV\n",
    "from sklearn.linear_model import Ridge\n",
    "from sklearn.linear_model import RidgeCV\n",
    "from sklearn.linear_model import LassoCV\n",
    "from sklearn.metrics import r2_score\n",
    "from sklearn.metrics import mean_squared_error\n",
    "from sklearn.model_selection import cross_val_score\n",
    "import numpy as np"
   ]
  },
  {
   "cell_type": "markdown",
   "metadata": {},
   "source": [
    "_ Read modified csv file _"
   ]
  },
  {
   "cell_type": "code",
   "execution_count": 2,
   "metadata": {
    "collapsed": true
   },
   "outputs": [],
   "source": [
    "df = pd.read_csv('Data.csv')"
   ]
  },
  {
   "cell_type": "code",
   "execution_count": 3,
   "metadata": {
    "collapsed": false
   },
   "outputs": [],
   "source": [
    "#df = df[df.t != 0]"
   ]
  },
  {
   "cell_type": "code",
   "execution_count": 4,
   "metadata": {
    "collapsed": false
   },
   "outputs": [
    {
     "data": {
      "text/html": [
       "<div>\n",
       "<table border=\"1\" class=\"dataframe\">\n",
       "  <thead>\n",
       "    <tr style=\"text-align: right;\">\n",
       "      <th></th>\n",
       "      <th>t</th>\n",
       "      <th>x</th>\n",
       "      <th>y</th>\n",
       "      <th>x_out</th>\n",
       "      <th>y_out</th>\n",
       "    </tr>\n",
       "  </thead>\n",
       "  <tbody>\n",
       "    <tr>\n",
       "      <th>0</th>\n",
       "      <td>0</td>\n",
       "      <td>0.54378</td>\n",
       "      <td>0.20457</td>\n",
       "      <td>0.00000</td>\n",
       "      <td>0.00000</td>\n",
       "    </tr>\n",
       "    <tr>\n",
       "      <th>1</th>\n",
       "      <td>1</td>\n",
       "      <td>0.54378</td>\n",
       "      <td>0.20457</td>\n",
       "      <td>0.54378</td>\n",
       "      <td>0.20457</td>\n",
       "    </tr>\n",
       "    <tr>\n",
       "      <th>2</th>\n",
       "      <td>2</td>\n",
       "      <td>0.54378</td>\n",
       "      <td>0.20457</td>\n",
       "      <td>1.08760</td>\n",
       "      <td>0.31114</td>\n",
       "    </tr>\n",
       "    <tr>\n",
       "      <th>3</th>\n",
       "      <td>3</td>\n",
       "      <td>0.54378</td>\n",
       "      <td>0.20457</td>\n",
       "      <td>1.63140</td>\n",
       "      <td>0.31971</td>\n",
       "    </tr>\n",
       "    <tr>\n",
       "      <th>4</th>\n",
       "      <td>4</td>\n",
       "      <td>0.54378</td>\n",
       "      <td>0.20457</td>\n",
       "      <td>2.17510</td>\n",
       "      <td>0.23028</td>\n",
       "    </tr>\n",
       "  </tbody>\n",
       "</table>\n",
       "</div>"
      ],
      "text/plain": [
       "   t        x        y    x_out    y_out\n",
       "0  0  0.54378  0.20457  0.00000  0.00000\n",
       "1  1  0.54378  0.20457  0.54378  0.20457\n",
       "2  2  0.54378  0.20457  1.08760  0.31114\n",
       "3  3  0.54378  0.20457  1.63140  0.31971\n",
       "4  4  0.54378  0.20457  2.17510  0.23028"
      ]
     },
     "execution_count": 4,
     "metadata": {},
     "output_type": "execute_result"
    }
   ],
   "source": [
    "df.head()"
   ]
  },
  {
   "cell_type": "code",
   "execution_count": 5,
   "metadata": {
    "collapsed": false
   },
   "outputs": [],
   "source": [
    "#Split the input and output from dataframe\n",
    "xy_output = df[['x_out','y_out']].values\n",
    "df = df.drop(['x_out','y_out'],1)\n",
    "X = df.values"
   ]
  },
  {
   "cell_type": "markdown",
   "metadata": {},
   "source": [
    "_ Features Transformation _"
   ]
  },
  {
   "cell_type": "code",
   "execution_count": 6,
   "metadata": {
    "collapsed": false
   },
   "outputs": [],
   "source": [
    "poly = PolynomialFeatures(4)\n",
    "X =poly.fit_transform(X)"
   ]
  },
  {
   "cell_type": "code",
   "execution_count": 7,
   "metadata": {
    "collapsed": false,
    "scrolled": true
   },
   "outputs": [
    {
     "data": {
      "text/plain": [
       "array([ 1.        ,  0.        ,  0.54378   ,  0.20457   ,  0.        ,\n",
       "        0.        ,  0.        ,  0.29569669,  0.11124107,  0.04184888,\n",
       "        0.        ,  0.        ,  0.        ,  0.        ,  0.        ,\n",
       "        0.        ,  0.16079395,  0.06049067,  0.02275659,  0.00856103,\n",
       "        0.        ,  0.        ,  0.        ,  0.        ,  0.        ,\n",
       "        0.        ,  0.        ,  0.        ,  0.        ,  0.        ,\n",
       "        0.08743653,  0.03289362,  0.01237458,  0.00465531,  0.00175133])"
      ]
     },
     "execution_count": 7,
     "metadata": {},
     "output_type": "execute_result"
    }
   ],
   "source": [
    "X[0]"
   ]
  },
  {
   "cell_type": "markdown",
   "metadata": {},
   "source": [
    "Split data for training and test "
   ]
  },
  {
   "cell_type": "code",
   "execution_count": 8,
   "metadata": {
    "collapsed": true
   },
   "outputs": [],
   "source": [
    "X_train, X_test, xy_pos_train, xy_pos_test = train_test_split(X, xy_output, test_size = 0.2, random_state = 5 )"
   ]
  },
  {
   "cell_type": "markdown",
   "metadata": {},
   "source": [
    "# _ Apply Ridge Regression as our model_"
   ]
  },
  {
   "cell_type": "code",
   "execution_count": 9,
   "metadata": {
    "collapsed": false
   },
   "outputs": [
    {
     "data": {
      "text/plain": [
       "RidgeCV(alphas=(0.0001, 0.001, 0.01, 0.1, 1.0, 10.0, 100), cv=5,\n",
       "    fit_intercept=True, gcv_mode=None, normalize=False, scoring=None,\n",
       "    store_cv_values=False)"
      ]
     },
     "execution_count": 9,
     "metadata": {},
     "output_type": "execute_result"
    }
   ],
   "source": [
    "Ridge_model_x = RidgeCV(alphas=(0.0001,0.001,0.01,0.1, 1.0, 10.0,100),cv = 5)\n",
    "Ridge_model_x.fit(X_train,xy_pos_train[:,0])"
   ]
  },
  {
   "cell_type": "code",
   "execution_count": 10,
   "metadata": {
    "collapsed": false
   },
   "outputs": [
    {
     "data": {
      "text/plain": [
       "RidgeCV(alphas=(0.0001, 0.001, 0.01, 0.1, 1.0, 10.0, 100), cv=5,\n",
       "    fit_intercept=True, gcv_mode=None, normalize=False, scoring=None,\n",
       "    store_cv_values=False)"
      ]
     },
     "execution_count": 10,
     "metadata": {},
     "output_type": "execute_result"
    }
   ],
   "source": [
    "Ridge_model_y = RidgeCV(alphas=(0.0001,0.001,0.01,0.1, 1.0, 10.0,100),cv = 5)\n",
    "Ridge_model_y.fit(X_train,xy_pos_train[:,1])"
   ]
  },
  {
   "cell_type": "code",
   "execution_count": 11,
   "metadata": {
    "collapsed": false
   },
   "outputs": [
    {
     "name": "stdout",
     "output_type": "stream",
     "text": [
      "Coefficient for x with Ridge Regression: [  0.00000000e+00  -5.88979254e-05  -1.28196796e-03  -4.51736872e-04\n",
      "  -9.32307678e-07   1.00016870e+00   1.41548941e-04   1.68171074e-03\n",
      "   3.79067529e-03  -3.96048883e-04   1.27404436e-07  -2.00188803e-06\n",
      "  -1.11812754e-06   1.97749776e-05  -3.69031881e-04  -6.47371128e-05\n",
      "  -2.23745492e-03  -1.52409929e-04  -4.11655498e-03   9.88825826e-04\n",
      "  -7.78713937e-10  -4.90600016e-08  -3.93817329e-08   5.47815256e-07\n",
      "   2.20052147e-06   5.33547240e-07  -2.28879243e-05   2.96141709e-05\n",
      "   1.46542037e-04   3.35243040e-06   9.77844598e-04  -6.19036049e-04\n",
      "   9.64712295e-04   9.77762372e-04  -3.51386603e-04]\n",
      "Coefficient for y with Ridge Regression: [  0.00000000e+00   4.90449261e-02   5.98434741e-04  -1.36418325e-04\n",
      "  -4.89990539e-02  -1.83863040e-04   9.99923688e-01   7.08336592e-04\n",
      "  -3.66858722e-03   2.02858789e-03  -6.19636561e-09  -3.55603022e-06\n",
      "   3.81156778e-07   1.27571841e-04   3.78238670e-04  -5.43294695e-05\n",
      "  -9.62776237e-04   3.35724758e-04   4.05580482e-03  -2.58865759e-03\n",
      "   2.45439752e-09   8.84424485e-09  -9.98592902e-08   1.45585708e-06\n",
      "   8.62708604e-07   9.50426417e-07  -5.88083776e-05  -3.98308105e-05\n",
      "  -1.73499945e-04   4.52713177e-05   5.06945860e-04  -4.51500964e-04\n",
      "   1.10309525e-04  -1.27149324e-03   8.43011301e-04]\n"
     ]
    }
   ],
   "source": [
    "print 'Coefficient for x with Ridge Regression:', Ridge_model_x.coef_\n",
    "print 'Coefficient for y with Ridge Regression:', Ridge_model_y.coef_"
   ]
  },
  {
   "cell_type": "code",
   "execution_count": 12,
   "metadata": {
    "collapsed": false
   },
   "outputs": [
    {
     "name": "stdout",
     "output_type": "stream",
     "text": [
      "Mean Square Error for In-Sample of x with Ridge Regression : 3.81116530661e-08\n",
      "Mean Square Error for Out-Sample of x with Ridge Regression :  5.15922399053e-08\n"
     ]
    }
   ],
   "source": [
    "i = Ridge_model_x.predict(X_train)\n",
    "o = Ridge_model_x.predict(X_test)\n",
    "print 'Mean Square Error for In-Sample of x with Ridge Regression :', mean_squared_error(xy_pos_train[:,0], i)\n",
    "print 'Mean Square Error for Out-Sample of x with Ridge Regression : ', mean_squared_error(xy_pos_test[:,0], o)"
   ]
  },
  {
   "cell_type": "code",
   "execution_count": 13,
   "metadata": {
    "collapsed": false
   },
   "outputs": [
    {
     "name": "stdout",
     "output_type": "stream",
     "text": [
      "Mean Square Error for In-Sample of y with Ridge Regression  5.17688086362e-08\n",
      "Mean Square Error for Out-Sample of y with Ridge Regression:  5.59702482422e-08\n"
     ]
    }
   ],
   "source": [
    "i = Ridge_model_y.predict(X_train)\n",
    "o = Ridge_model_y.predict(X_test)\n",
    "print 'Mean Square Error for In-Sample of y with Ridge Regression ', mean_squared_error(xy_pos_train[:,1], i)\n",
    "print 'Mean Square Error for Out-Sample of y with Ridge Regression: ', mean_squared_error(xy_pos_test[:,1], o)"
   ]
  },
  {
   "cell_type": "markdown",
   "metadata": {},
   "source": [
    "# _Apply Lasso Regression as our model_#"
   ]
  },
  {
   "cell_type": "code",
   "execution_count": 14,
   "metadata": {
    "collapsed": false
   },
   "outputs": [
    {
     "name": "stderr",
     "output_type": "stream",
     "text": [
      "C:\\Users\\buu\\Anaconda2\\lib\\site-packages\\sklearn\\linear_model\\coordinate_descent.py:479: ConvergenceWarning: Objective did not converge. You might want to increase the number of iterations. Fitting data with very small alpha may cause precision problems.\n",
      "  ConvergenceWarning)\n"
     ]
    },
    {
     "data": {
      "text/plain": [
       "LassoCV(alphas=[1e-06, 1e-05, 0.0001, 0.001, 0.01, 0.1, 1.0, 10.0, 100],\n",
       "    copy_X=True, cv=5, eps=0.001, fit_intercept=True, max_iter=1000,\n",
       "    n_alphas=100, n_jobs=1, normalize=False, positive=False,\n",
       "    precompute='auto', random_state=None, selection='cyclic', tol=0.0001,\n",
       "    verbose=False)"
      ]
     },
     "execution_count": 14,
     "metadata": {},
     "output_type": "execute_result"
    }
   ],
   "source": [
    "Lasso_model_x = LassoCV(alphas=[0.000001,0.00001, 0.0001,0.001,0.01,0.1, 1.0, 10.0,100],cv = 5)\n",
    "Lasso_model_x.fit(X_train,xy_pos_train[:,0])"
   ]
  },
  {
   "cell_type": "code",
   "execution_count": 15,
   "metadata": {
    "collapsed": false
   },
   "outputs": [
    {
     "data": {
      "text/plain": [
       "LassoCV(alphas=[1e-06, 1e-05, 0.0001, 0.001, 0.01, 0.1, 1.0, 10.0, 100],\n",
       "    copy_X=True, cv=5, eps=0.001, fit_intercept=True, max_iter=1000,\n",
       "    n_alphas=100, n_jobs=1, normalize=False, positive=False,\n",
       "    precompute='auto', random_state=None, selection='cyclic', tol=0.0001,\n",
       "    verbose=False)"
      ]
     },
     "execution_count": 15,
     "metadata": {},
     "output_type": "execute_result"
    }
   ],
   "source": [
    "Lasso_model_y = LassoCV(alphas=[0.000001,0.00001, 0.0001,0.001,0.01,0.1, 1.0, 10.0,100],cv = 5)\n",
    "Lasso_model_y.fit(X_train,xy_pos_train[:,1])"
   ]
  },
  {
   "cell_type": "code",
   "execution_count": 16,
   "metadata": {
    "collapsed": false
   },
   "outputs": [
    {
     "name": "stdout",
     "output_type": "stream",
     "text": [
      "Coefficient for x with Lasso Regression: [  0.00000000e+00   3.13843086e-02   3.19591160e-01  -2.57367332e-02\n",
      "   3.40673735e-03   8.90317813e-01  -9.77705504e-02  -8.53397145e-02\n",
      "   9.35496825e-02   3.02893732e-01  -9.62461393e-05   3.86817886e-03\n",
      "  -6.66528147e-04   8.96418436e-02   3.87129896e-02   3.25589658e-02\n",
      "  -2.28566667e-01  -2.11888096e-01  -3.35043258e-01   6.63871607e-03\n",
      "   2.60023874e-06   1.47621236e-05  -3.93854101e-05  -2.18808919e-03\n",
      "  -1.78243565e-03   1.45433940e-04  -2.61713615e-02   8.62260145e-03\n",
      "   5.26679844e-04   6.65855861e-03   1.31226982e-01   7.01268360e-02\n",
      "   8.18070737e-02   9.18193034e-02  -8.98232983e-02]\n",
      "Coefficient for y with Lasso Regression: [  0.00000000e+00   1.13779323e-03  -7.26784136e-02   6.42235623e-01\n",
      "  -3.28592016e-02   1.01308865e-01   7.11235211e-01  -1.22663822e-01\n",
      "  -7.67352967e-01   2.66161399e-01  -6.48395607e-04  -1.18545740e-02\n",
      "   6.27720909e-03  -2.20072751e-02   1.56210648e-01   1.12110175e-01\n",
      "   3.42839567e-01  -3.76429668e-02  -1.45675130e-01  -2.16965617e-01\n",
      "   1.29205228e-05   2.94515476e-04  -1.71346397e-04   1.97656081e-03\n",
      "  -3.61137176e-03  -1.62266921e-03  -1.14312976e-02  -1.50608799e-02\n",
      "  -2.80779689e-02   7.56235066e-03  -1.60647058e-01   2.30602507e-01\n",
      "  -1.03185137e-01   2.27363826e-01  -6.14377442e-02]\n"
     ]
    }
   ],
   "source": [
    "print 'Coefficient for x with Lasso Regression:', Lasso_model_x.coef_\n",
    "print 'Coefficient for y with Lasso Regression:', Lasso_model_y.coef_"
   ]
  },
  {
   "cell_type": "code",
   "execution_count": 17,
   "metadata": {
    "collapsed": false
   },
   "outputs": [
    {
     "name": "stdout",
     "output_type": "stream",
     "text": [
      "Root Mean Square Error for In-Sample of x with Lasso Regression : 0.00164763195774\n",
      "Root Mean Square Error for Out-Sample of x with Lasso Regression :  0.00167544837044\n"
     ]
    }
   ],
   "source": [
    "i = Lasso_model_x.predict(X_train)\n",
    "o = Lasso_model_x.predict(X_test)\n",
    "print 'Root Mean Square Error for In-Sample of x with Lasso Regression :', mean_squared_error(xy_pos_train[:,0], i)\n",
    "print 'Root Mean Square Error for Out-Sample of x with Lasso Regression : ', mean_squared_error(xy_pos_test[:,0], o)"
   ]
  },
  {
   "cell_type": "code",
   "execution_count": 18,
   "metadata": {
    "collapsed": false
   },
   "outputs": [
    {
     "name": "stdout",
     "output_type": "stream",
     "text": [
      "Root Mean Square Error for In-Sample of y with Lasso Regression : 0.00754688651721\n",
      "Root Mean Square Error for Out-Sample of y with Lasso Regression :  0.00849685040169\n"
     ]
    }
   ],
   "source": [
    "i = Lasso_model_y.predict(X_train)\n",
    "o = Lasso_model_y.predict(X_test)\n",
    "print 'Root Mean Square Error for In-Sample of y with Lasso Regression :', mean_squared_error(xy_pos_train[:,1], i)\n",
    "print 'Root Mean Square Error for Out-Sample of y with Lasso Regression : ', mean_squared_error(xy_pos_test[:,1], o)"
   ]
  },
  {
   "cell_type": "markdown",
   "metadata": {},
   "source": [
    "# _Predict the trajectory of a projectile launched at 45 degrees with an initial velocity of 10 m/s till it hits the ground or timeindex=100 whichever is earlier_"
   ]
  },
  {
   "cell_type": "code",
   "execution_count": 19,
   "metadata": {
    "collapsed": false
   },
   "outputs": [
    {
     "data": {
      "text/html": [
       "<div>\n",
       "<table border=\"1\" class=\"dataframe\">\n",
       "  <thead>\n",
       "    <tr style=\"text-align: right;\">\n",
       "      <th></th>\n",
       "      <th>t</th>\n",
       "      <th>x</th>\n",
       "      <th>y</th>\n",
       "    </tr>\n",
       "  </thead>\n",
       "  <tbody>\n",
       "    <tr>\n",
       "      <th>0</th>\n",
       "      <td>1</td>\n",
       "      <td>0.707107</td>\n",
       "      <td>0.658107</td>\n",
       "    </tr>\n",
       "    <tr>\n",
       "      <th>1</th>\n",
       "      <td>2</td>\n",
       "      <td>0.707107</td>\n",
       "      <td>0.658107</td>\n",
       "    </tr>\n",
       "    <tr>\n",
       "      <th>2</th>\n",
       "      <td>3</td>\n",
       "      <td>0.707107</td>\n",
       "      <td>0.658107</td>\n",
       "    </tr>\n",
       "    <tr>\n",
       "      <th>3</th>\n",
       "      <td>4</td>\n",
       "      <td>0.707107</td>\n",
       "      <td>0.658107</td>\n",
       "    </tr>\n",
       "    <tr>\n",
       "      <th>4</th>\n",
       "      <td>5</td>\n",
       "      <td>0.707107</td>\n",
       "      <td>0.658107</td>\n",
       "    </tr>\n",
       "  </tbody>\n",
       "</table>\n",
       "</div>"
      ],
      "text/plain": [
       "   t         x         y\n",
       "0  1  0.707107  0.658107\n",
       "1  2  0.707107  0.658107\n",
       "2  3  0.707107  0.658107\n",
       "3  4  0.707107  0.658107\n",
       "4  5  0.707107  0.658107"
      ]
     },
     "execution_count": 19,
     "metadata": {},
     "output_type": "execute_result"
    }
   ],
   "source": [
    "#Read the formatted output file\n",
    "predict_df = pd.read_csv('out_45_10.csv')\n",
    "predict_df.head()"
   ]
  },
  {
   "cell_type": "code",
   "execution_count": 20,
   "metadata": {
    "collapsed": false
   },
   "outputs": [
    {
     "data": {
      "text/html": [
       "<div>\n",
       "<table border=\"1\" class=\"dataframe\">\n",
       "  <thead>\n",
       "    <tr style=\"text-align: right;\">\n",
       "      <th></th>\n",
       "      <th>x</th>\n",
       "      <th>y</th>\n",
       "    </tr>\n",
       "  </thead>\n",
       "  <tbody>\n",
       "    <tr>\n",
       "      <th>0</th>\n",
       "      <td>0.70711</td>\n",
       "      <td>0.65811</td>\n",
       "    </tr>\n",
       "    <tr>\n",
       "      <th>1</th>\n",
       "      <td>1.41420</td>\n",
       "      <td>1.21820</td>\n",
       "    </tr>\n",
       "    <tr>\n",
       "      <th>2</th>\n",
       "      <td>2.12130</td>\n",
       "      <td>1.68030</td>\n",
       "    </tr>\n",
       "    <tr>\n",
       "      <th>3</th>\n",
       "      <td>2.82840</td>\n",
       "      <td>2.04440</td>\n",
       "    </tr>\n",
       "    <tr>\n",
       "      <th>4</th>\n",
       "      <td>3.53550</td>\n",
       "      <td>2.31050</td>\n",
       "    </tr>\n",
       "  </tbody>\n",
       "</table>\n",
       "</div>"
      ],
      "text/plain": [
       "         x        y\n",
       "0  0.70711  0.65811\n",
       "1  1.41420  1.21820\n",
       "2  2.12130  1.68030\n",
       "3  2.82840  2.04440\n",
       "4  3.53550  2.31050"
      ]
     },
     "execution_count": 20,
     "metadata": {},
     "output_type": "execute_result"
    }
   ],
   "source": [
    "#Read the prepared ground truth\n",
    "ground_truth = pd.read_csv('Ground_truth.csv')\n",
    "X_truth = ground_truth['x'].values\n",
    "Y_truth = ground_truth['y'].values\n",
    "Y_truth_stop = Y_truth[Y_truth>=0]\n",
    "X_truth_stop = X_truth[0:len(Y_truth_stop)]\n",
    "ground_truth.head()\n"
   ]
  },
  {
   "cell_type": "code",
   "execution_count": 21,
   "metadata": {
    "collapsed": false
   },
   "outputs": [],
   "source": [
    "X_input = poly.fit_transform(predict_df.values)"
   ]
  },
  {
   "cell_type": "code",
   "execution_count": 22,
   "metadata": {
    "collapsed": false
   },
   "outputs": [
    {
     "name": "stdout",
     "output_type": "stream",
     "text": [
      "[ 0.70716934  1.41428306  2.12139444  2.82850383  3.53561156  4.24271794\n",
      "  4.94982329  5.65692787  6.36403195  7.07113577  7.77823955  8.48534349\n",
      "  9.19244779  9.89955261]\n",
      "[ 0.6580963   1.21821017  1.68032381  2.04443699  2.31054952  2.47866126\n",
      "  2.54877216  2.52088219  2.3949914   2.17109991  1.84920788  1.42931552\n",
      "  0.91142314  0.29553106]\n"
     ]
    }
   ],
   "source": [
    "x_output_Ridge = Ridge_model_x.predict(X_input)\n",
    "y_output_Ridge = Ridge_model_y.predict(X_input)\n",
    "y_output_Ridge_stop = y_output_Ridge[y_output_Ridge>=0]\n",
    "x_output_Ridge_stop = x_output_Ridge[0:len(y_output_Ridge_stop)]\n",
    "print x_output_Ridge_stop\n",
    "print y_output_Ridge_stop"
   ]
  },
  {
   "cell_type": "code",
   "execution_count": 23,
   "metadata": {
    "collapsed": false
   },
   "outputs": [
    {
     "name": "stdout",
     "output_type": "stream",
     "text": [
      "14\n",
      "[   0.74034427    1.42030118    2.10673295    2.79912523    3.49702607\n",
      "    4.20004594    4.90785771    5.62019663    6.3368604     7.0577091\n",
      "    7.7826652     8.51171362    9.24490165    9.98233899   10.72419776\n",
      "   11.47071248   12.22218006   12.97895985   13.74147357   14.51020536\n",
      "   15.28570178   16.06857177   16.85948668   17.6591803    18.46844877\n",
      "   19.28815069   20.11920703   20.96260117   21.81937891   22.69064845\n",
      "   23.57758039   24.48140774   25.40342591   26.34499273   27.30752843\n",
      "   28.29251563   29.30149937   30.3360871    31.39794866   32.48881632\n",
      "   33.61048473   34.76481096   35.95371448   37.17917718   38.44324333\n",
      "   39.74801962   41.09567515   42.48844142   43.92861234   45.41854422\n",
      "   46.96065578   48.55742815   50.21140484   51.9251918    53.70145738\n",
      "   55.54293231   57.45240974   59.43274525   61.48685678   63.61772472\n",
      "   65.82839184   68.12196331   70.50160673   72.97055209   75.53209178\n",
      "   78.18958062   80.94643581   83.80613696   86.7722261    89.84830766\n",
      "   93.03804847   96.34517777   99.77348719  103.3268308   107.00912505\n",
      "  110.82434879  114.7765433   118.86981225  123.10832172  127.4963002\n",
      "  132.03803856  136.73789012  141.60027056  146.62965801  151.83059296\n",
      "  157.20767835  162.76557949  168.50902411  174.44280236  180.57176677\n",
      "  186.90083229  193.43497627  200.17923848  207.13872107  214.31858862\n",
      "  221.72406811  229.36044891  237.23308282  245.34738402  253.70882912]\n",
      "[  6.77449794e-01   1.19390289e+00   1.62735586e+00   1.97526651e+00\n",
      "   2.23540270e+00   2.40584244e+00   2.48497379e+00   2.47149492e+00\n",
      "   2.36441408e+00   2.16304963e+00   1.86703001e+00   1.47629376e+00\n",
      "   9.91089503e-01   4.11975963e-01  -2.60178046e-01  -1.02419362e+00\n",
      "  -1.87858176e+00  -2.82154337e+00  -3.85096927e+00  -4.96444018e+00\n",
      "  -6.15922673e+00  -7.43228947e+00  -8.78027883e+00  -1.01995352e+01\n",
      "  -1.16860888e+01  -1.32356598e+01  -1.48436583e+01  -1.65051842e+01\n",
      "  -1.82150275e+01  -1.99676680e+01  -2.17572753e+01  -2.35777091e+01\n",
      "  -2.54225189e+01  -2.72849442e+01  -2.91579141e+01  -3.10340481e+01\n",
      "  -3.29056553e+01  -3.47647346e+01  -3.66029752e+01  -3.84117557e+01\n",
      "  -4.01821451e+01  -4.19049021e+01  -4.35704751e+01  -4.51690027e+01\n",
      "  -4.66903134e+01  -4.81239254e+01  -4.94590470e+01  -5.06845762e+01\n",
      "  -5.17891012e+01  -5.27608999e+01  -5.35879401e+01  -5.42578796e+01\n",
      "  -5.47580661e+01  -5.50755372e+01  -5.51970202e+01  -5.51089327e+01\n",
      "  -5.47973819e+01  -5.42481650e+01  -5.34467692e+01  -5.23783715e+01\n",
      "  -5.10278387e+01  -4.93797277e+01  -4.74182854e+01  -4.51274482e+01\n",
      "  -4.24908429e+01  -3.94917858e+01  -3.61132833e+01  -3.23380317e+01\n",
      "  -2.81484172e+01  -2.35265159e+01  -1.84540938e+01  -1.29126068e+01\n",
      "  -6.88320070e+00  -3.46711260e-01   6.71633589e+00   1.43257252e+01\n",
      "   2.25015513e+01   3.12642187e+01   4.06344423e+01   5.06332468e+01\n",
      "   6.12819671e+01   7.26022483e+01   8.46160455e+01   9.73456239e+01\n",
      "   1.10813559e+02   1.25042736e+02   1.40056350e+02   1.55877907e+02\n",
      "   1.72531222e+02   1.90040422e+02   2.08429942e+02   2.27724528e+02\n",
      "   2.47949236e+02   2.69129433e+02   2.91290794e+02   3.14459306e+02\n",
      "   3.38661265e+02   3.63923278e+02   3.90272261e+02   4.17735441e+02]\n"
     ]
    }
   ],
   "source": [
    "x_output_Lasso = Lasso_model_x.predict(X_input)\n",
    "y_output_Lasso = Lasso_model_y.predict(X_input)\n",
    "_less_than_0= np.argmax(y_output_Lasso < 0)\n",
    "print _less_than_0\n",
    "y_output_Lasso_stop = y_output_Lasso[0:_less_than_0]\n",
    "x_output_Lasso_stop = x_output_Lasso[0:_less_than_0]\n",
    "print x_output_Lasso\n",
    "print y_output_Lasso"
   ]
  },
  {
   "cell_type": "code",
   "execution_count": 24,
   "metadata": {
    "collapsed": false
   },
   "outputs": [
    {
     "data": {
      "image/png": "[encoded data removed]",
      "text/plain": [
       "<matplotlib.figure.Figure at 0xb1676a0>"
      ]
     },
     "metadata": {},
     "output_type": "display_data"
    },
    {
     "data": {
      "image/png": "[encoded data removed]",
      "text/plain": [
       "<matplotlib.figure.Figure at 0xb35c668>"
      ]
     },
     "metadata": {},
     "output_type": "display_data"
    }
   ],
   "source": [
    "plt.subplot(2, 1, 1)\n",
    "a0= plt.plot(x_output_Lasso_stop, y_output_Lasso_stop, label = 'Lasso')\n",
    "a1= plt.plot(x_output_Ridge_stop, y_output_Ridge_stop, label = 'Ridge')\n",
    "a2= plt.plot(X_truth_stop , Y_truth_stop,'o', label = 'Ground truth')\n",
    "plt.legend()\n",
    "plt.title('Trajectory of the projectile before hitting the ground')\n",
    "plt.xlabel('x')\n",
    "plt.ylabel('y')\n",
    "plt.show()\n",
    "\n",
    "plt.subplot(2, 1, 2)\n",
    "a0= plt.plot(x_output_Lasso, y_output_Lasso, label = 'Lasso')\n",
    "a1 = plt.plot(x_output_Ridge, y_output_Ridge, label = 'Ridge')\n",
    "a2 = plt.plot(X_truth , Y_truth,'o', label = 'Ground truth')\n",
    "plt.legend()\n",
    "plt.title('Trajectory of the projectile ignore hitting the ground')\n",
    "plt.xlabel('x')\n",
    "plt.ylabel('y')\n",
    "plt.show()\n",
    "plt.show()"
   ]
  },
  {
   "cell_type": "markdown",
   "metadata": {},
   "source": [
    "# _Output csv file for submission (Ridge Regression only)_#"
   ]
  },
  {
   "cell_type": "code",
   "execution_count": 25,
   "metadata": {
    "collapsed": false
   },
   "outputs": [],
   "source": [
    "predict_df['x_out'] = x_output_Ridge\n",
    "predict_df['y_out'] = y_output_Ridge\n",
    "tem_df = pd.DataFrame([[0,0,0,0,0]], columns=predict_df.columns)"
   ]
  },
  {
   "cell_type": "code",
   "execution_count": 26,
   "metadata": {
    "collapsed": false
   },
   "outputs": [],
   "source": [
    "tem_df = tem_df.append(predict_df,ignore_index=True)\n",
    "out_df = tem_df[tem_df['y_out'] >= 0]"
   ]
  },
  {
   "cell_type": "code",
   "execution_count": 27,
   "metadata": {
    "collapsed": false
   },
   "outputs": [],
   "source": [
    "out_df = out_df[['t','x_out','y_out']]\n",
    "out_df.columns = ['[time_collect]', '[x]', '[y]']"
   ]
  },
  {
   "cell_type": "code",
   "execution_count": 28,
   "metadata": {
    "collapsed": false
   },
   "outputs": [
    {
     "data": {
      "text/html": [
       "<div>\n",
       "<table border=\"1\" class=\"dataframe\">\n",
       "  <thead>\n",
       "    <tr style=\"text-align: right;\">\n",
       "      <th></th>\n",
       "      <th>[time_collect]</th>\n",
       "      <th>[x]</th>\n",
       "      <th>[y]</th>\n",
       "    </tr>\n",
       "  </thead>\n",
       "  <tbody>\n",
       "    <tr>\n",
       "      <th>0</th>\n",
       "      <td>0</td>\n",
       "      <td>0.000000</td>\n",
       "      <td>0.000000</td>\n",
       "    </tr>\n",
       "    <tr>\n",
       "      <th>1</th>\n",
       "      <td>1</td>\n",
       "      <td>0.707169</td>\n",
       "      <td>0.658096</td>\n",
       "    </tr>\n",
       "    <tr>\n",
       "      <th>2</th>\n",
       "      <td>2</td>\n",
       "      <td>1.414283</td>\n",
       "      <td>1.218210</td>\n",
       "    </tr>\n",
       "    <tr>\n",
       "      <th>3</th>\n",
       "      <td>3</td>\n",
       "      <td>2.121394</td>\n",
       "      <td>1.680324</td>\n",
       "    </tr>\n",
       "    <tr>\n",
       "      <th>4</th>\n",
       "      <td>4</td>\n",
       "      <td>2.828504</td>\n",
       "      <td>2.044437</td>\n",
       "    </tr>\n",
       "    <tr>\n",
       "      <th>5</th>\n",
       "      <td>5</td>\n",
       "      <td>3.535612</td>\n",
       "      <td>2.310550</td>\n",
       "    </tr>\n",
       "    <tr>\n",
       "      <th>6</th>\n",
       "      <td>6</td>\n",
       "      <td>4.242718</td>\n",
       "      <td>2.478661</td>\n",
       "    </tr>\n",
       "    <tr>\n",
       "      <th>7</th>\n",
       "      <td>7</td>\n",
       "      <td>4.949823</td>\n",
       "      <td>2.548772</td>\n",
       "    </tr>\n",
       "    <tr>\n",
       "      <th>8</th>\n",
       "      <td>8</td>\n",
       "      <td>5.656928</td>\n",
       "      <td>2.520882</td>\n",
       "    </tr>\n",
       "    <tr>\n",
       "      <th>9</th>\n",
       "      <td>9</td>\n",
       "      <td>6.364032</td>\n",
       "      <td>2.394991</td>\n",
       "    </tr>\n",
       "    <tr>\n",
       "      <th>10</th>\n",
       "      <td>10</td>\n",
       "      <td>7.071136</td>\n",
       "      <td>2.171100</td>\n",
       "    </tr>\n",
       "    <tr>\n",
       "      <th>11</th>\n",
       "      <td>11</td>\n",
       "      <td>7.778240</td>\n",
       "      <td>1.849208</td>\n",
       "    </tr>\n",
       "    <tr>\n",
       "      <th>12</th>\n",
       "      <td>12</td>\n",
       "      <td>8.485343</td>\n",
       "      <td>1.429316</td>\n",
       "    </tr>\n",
       "    <tr>\n",
       "      <th>13</th>\n",
       "      <td>13</td>\n",
       "      <td>9.192448</td>\n",
       "      <td>0.911423</td>\n",
       "    </tr>\n",
       "    <tr>\n",
       "      <th>14</th>\n",
       "      <td>14</td>\n",
       "      <td>9.899553</td>\n",
       "      <td>0.295531</td>\n",
       "    </tr>\n",
       "  </tbody>\n",
       "</table>\n",
       "</div>"
      ],
      "text/plain": [
       "    [time_collect]       [x]       [y]\n",
       "0                0  0.000000  0.000000\n",
       "1                1  0.707169  0.658096\n",
       "2                2  1.414283  1.218210\n",
       "3                3  2.121394  1.680324\n",
       "4                4  2.828504  2.044437\n",
       "5                5  3.535612  2.310550\n",
       "6                6  4.242718  2.478661\n",
       "7                7  4.949823  2.548772\n",
       "8                8  5.656928  2.520882\n",
       "9                9  6.364032  2.394991\n",
       "10              10  7.071136  2.171100\n",
       "11              11  7.778240  1.849208\n",
       "12              12  8.485343  1.429316\n",
       "13              13  9.192448  0.911423\n",
       "14              14  9.899553  0.295531"
      ]
     },
     "execution_count": 28,
     "metadata": {},
     "output_type": "execute_result"
    }
   ],
   "source": [
    "out_df"
   ]
  },
  {
   "cell_type": "code",
   "execution_count": 29,
   "metadata": {
    "collapsed": false
   },
   "outputs": [],
   "source": [
    "out_df.to_csv('submission.csv', index= False)"
   ]
  },
  {
   "cell_type": "code",
   "execution_count": null,
   "metadata": {
    "collapsed": true
   },
   "outputs": [],
   "source": []
  }
 ],
 "metadata": {
  "kernelspec": {
   "display_name": "Python [Root]",
   "language": "python",
   "name": "Python [Root]"
  },
  "language_info": {
   "codemirror_mode": {
    "name": "ipython",
    "version": 2
   },
   "file_extension": ".py",
   "mimetype": "text/x-python",
   "name": "python",
   "nbconvert_exporter": "python",
   "pygments_lexer": "ipython2",
   "version": "2.7.12"
  }
 },
 "nbformat": 4,
 "nbformat_minor": 0
}
