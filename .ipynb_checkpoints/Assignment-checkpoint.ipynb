{
 "cells": [
  {
   "cell_type": "markdown",
   "metadata": {},
   "source": [
    "# _ ECE WATERLOO ASSIGNMENT _"
   ]
  },
  {
   "cell_type": "code",
   "execution_count": 1,
   "metadata": {
    "collapsed": false
   },
   "outputs": [],
   "source": [
    "# Import libaries\n",
    "%matplotlib inline\n",
    "import matplotlib.pyplot as plt\n",
    "plt.rcParams[\"figure.figsize\"] = [15,18]\n",
    "import pandas as pd\n",
    "import numpy as np\n",
    "from sklearn.preprocessing import PolynomialFeatures\n",
    "from sklearn.model_selection import train_test_split\n",
    "from sklearn.model_selection import GridSearchCV\n",
    "from sklearn.linear_model import Ridge\n",
    "from sklearn.linear_model import RidgeCV\n",
    "from sklearn.linear_model import LassoCV\n",
    "from sklearn.metrics import r2_score\n",
    "from sklearn.metrics import mean_squared_error\n",
    "from sklearn.model_selection import cross_val_score\n",
    "import numpy as np"
   ]
  },
  {
   "cell_type": "markdown",
   "metadata": {},
   "source": [
    "_ Read modified csv file _"
   ]
  },
  {
   "cell_type": "code",
   "execution_count": 2,
   "metadata": {
    "collapsed": true
   },
   "outputs": [],
   "source": [
    "df = pd.read_csv('Data.csv')"
   ]
  },
  {
   "cell_type": "code",
   "execution_count": 3,
   "metadata": {
    "collapsed": false
   },
   "outputs": [],
   "source": [
    "#df = df[df.t != 0]"
   ]
  },
  {
   "cell_type": "code",
   "execution_count": 4,
   "metadata": {
    "collapsed": false
   },
   "outputs": [
    {
     "data": {
      "text/html": [
       "<div>\n",
       "<table border=\"1\" class=\"dataframe\">\n",
       "  <thead>\n",
       "    <tr style=\"text-align: right;\">\n",
       "      <th></th>\n",
       "      <th>t</th>\n",
       "      <th>x</th>\n",
       "      <th>y</th>\n",
       "      <th>x_out</th>\n",
       "      <th>y_out</th>\n",
       "    </tr>\n",
       "  </thead>\n",
       "  <tbody>\n",
       "    <tr>\n",
       "      <th>0</th>\n",
       "      <td>0</td>\n",
       "      <td>0.54378</td>\n",
       "      <td>0.20457</td>\n",
       "      <td>0.00000</td>\n",
       "      <td>0.00000</td>\n",
       "    </tr>\n",
       "    <tr>\n",
       "      <th>1</th>\n",
       "      <td>1</td>\n",
       "      <td>0.54378</td>\n",
       "      <td>0.20457</td>\n",
       "      <td>0.54378</td>\n",
       "      <td>0.20457</td>\n",
       "    </tr>\n",
       "    <tr>\n",
       "      <th>2</th>\n",
       "      <td>2</td>\n",
       "      <td>0.54378</td>\n",
       "      <td>0.20457</td>\n",
       "      <td>1.08760</td>\n",
       "      <td>0.31114</td>\n",
       "    </tr>\n",
       "    <tr>\n",
       "      <th>3</th>\n",
       "      <td>3</td>\n",
       "      <td>0.54378</td>\n",
       "      <td>0.20457</td>\n",
       "      <td>1.63140</td>\n",
       "      <td>0.31971</td>\n",
       "    </tr>\n",
       "    <tr>\n",
       "      <th>4</th>\n",
       "      <td>4</td>\n",
       "      <td>0.54378</td>\n",
       "      <td>0.20457</td>\n",
       "      <td>2.17510</td>\n",
       "      <td>0.23028</td>\n",
       "    </tr>\n",
       "  </tbody>\n",
       "</table>\n",
       "</div>"
      ],
      "text/plain": [
       "   t        x        y    x_out    y_out\n",
       "0  0  0.54378  0.20457  0.00000  0.00000\n",
       "1  1  0.54378  0.20457  0.54378  0.20457\n",
       "2  2  0.54378  0.20457  1.08760  0.31114\n",
       "3  3  0.54378  0.20457  1.63140  0.31971\n",
       "4  4  0.54378  0.20457  2.17510  0.23028"
      ]
     },
     "execution_count": 4,
     "metadata": {},
     "output_type": "execute_result"
    }
   ],
   "source": [
    "df.head()"
   ]
  },
  {
   "cell_type": "code",
   "execution_count": 5,
   "metadata": {
    "collapsed": false
   },
   "outputs": [],
   "source": [
    "#Split the input and output from dataframe\n",
    "xy_output = df[['x_out','y_out']].values\n",
    "df = df.drop(['x_out','y_out'],1)\n",
    "X = df.values"
   ]
  },
  {
   "cell_type": "markdown",
   "metadata": {},
   "source": [
    "_ Features Transformation _"
   ]
  },
  {
   "cell_type": "code",
   "execution_count": 6,
   "metadata": {
    "collapsed": false
   },
   "outputs": [],
   "source": [
    "poly = PolynomialFeatures(6)\n",
    "X =poly.fit_transform(X)"
   ]
  },
  {
   "cell_type": "code",
   "execution_count": 7,
   "metadata": {
    "collapsed": false,
    "scrolled": true
   },
   "outputs": [
    {
     "name": "stdout",
     "output_type": "stream",
     "text": [
      "[  1.00000000e+00   0.00000000e+00   5.43780000e-01   2.04570000e-01\n",
      "   0.00000000e+00   0.00000000e+00   0.00000000e+00   2.95696688e-01\n",
      "   1.11241075e-01   4.18488849e-02   0.00000000e+00   0.00000000e+00\n",
      "   0.00000000e+00   0.00000000e+00   0.00000000e+00   0.00000000e+00\n",
      "   1.60793945e-01   6.04906715e-02   2.27565866e-02   8.56102638e-03\n",
      "   0.00000000e+00   0.00000000e+00   0.00000000e+00   0.00000000e+00\n",
      "   0.00000000e+00   0.00000000e+00   0.00000000e+00   0.00000000e+00\n",
      "   0.00000000e+00   0.00000000e+00   8.74365315e-02   3.28936174e-02\n",
      "   1.23745767e-02   4.65531493e-03   1.75132917e-03   0.00000000e+00\n",
      "   0.00000000e+00   0.00000000e+00   0.00000000e+00   0.00000000e+00\n",
      "   0.00000000e+00   0.00000000e+00   0.00000000e+00   0.00000000e+00\n",
      "   0.00000000e+00   0.00000000e+00   0.00000000e+00   0.00000000e+00\n",
      "   0.00000000e+00   0.00000000e+00   4.75462371e-02   1.78868913e-02\n",
      "   6.72904731e-03   2.53146715e-03   9.52337775e-04   3.58269408e-04\n",
      "   0.00000000e+00   0.00000000e+00   0.00000000e+00   0.00000000e+00\n",
      "   0.00000000e+00   0.00000000e+00   0.00000000e+00   0.00000000e+00\n",
      "   0.00000000e+00   0.00000000e+00   0.00000000e+00   0.00000000e+00\n",
      "   0.00000000e+00   0.00000000e+00   0.00000000e+00   0.00000000e+00\n",
      "   0.00000000e+00   0.00000000e+00   0.00000000e+00   0.00000000e+00\n",
      "   0.00000000e+00   2.58546928e-02   9.72653373e-03   3.65912134e-03\n",
      "   1.37656121e-03   5.17862235e-04   1.94819739e-04   7.32911727e-05]\n",
      "84\n"
     ]
    }
   ],
   "source": [
    "print X[0]\n",
    "print len(X[0])"
   ]
  },
  {
   "cell_type": "markdown",
   "metadata": {},
   "source": [
    "Split data for training and test "
   ]
  },
  {
   "cell_type": "code",
   "execution_count": 8,
   "metadata": {
    "collapsed": true
   },
   "outputs": [],
   "source": [
    "X_train, X_test, xy_pos_train, xy_pos_test = train_test_split(X, xy_output, test_size = 0.2, random_state = 5 )"
   ]
  },
  {
   "cell_type": "markdown",
   "metadata": {},
   "source": [
    "# _ Apply Ridge Regression as our model_"
   ]
  },
  {
   "cell_type": "code",
   "execution_count": 9,
   "metadata": {
    "collapsed": false
   },
   "outputs": [
    {
     "data": {
      "text/plain": [
       "RidgeCV(alphas=(0.0001, 0.001, 0.01, 0.1, 1.0, 10.0, 100), cv=5,\n",
       "    fit_intercept=True, gcv_mode=None, normalize=False, scoring=None,\n",
       "    store_cv_values=False)"
      ]
     },
     "execution_count": 9,
     "metadata": {},
     "output_type": "execute_result"
    }
   ],
   "source": [
    "Ridge_model_x = RidgeCV(alphas=(0.0001,0.001,0.01,0.1, 1.0, 10.0,100),cv = 5)\n",
    "Ridge_model_x.fit(X_train,xy_pos_train[:,0])"
   ]
  },
  {
   "cell_type": "code",
   "execution_count": 10,
   "metadata": {
    "collapsed": false
   },
   "outputs": [
    {
     "data": {
      "text/plain": [
       "RidgeCV(alphas=(0.0001, 0.001, 0.01, 0.1, 1.0, 10.0, 100), cv=5,\n",
       "    fit_intercept=True, gcv_mode=None, normalize=False, scoring=None,\n",
       "    store_cv_values=False)"
      ]
     },
     "execution_count": 10,
     "metadata": {},
     "output_type": "execute_result"
    }
   ],
   "source": [
    "Ridge_model_y = RidgeCV(alphas=(0.0001,0.001,0.01,0.1, 1.0, 10.0,100),cv = 5)\n",
    "Ridge_model_y.fit(X_train,xy_pos_train[:,1])"
   ]
  },
  {
   "cell_type": "code",
   "execution_count": 11,
   "metadata": {
    "collapsed": false
   },
   "outputs": [
    {
     "name": "stdout",
     "output_type": "stream",
     "text": [
      "Coefficient for x with Ridge Regression: [  0.00000000e+00  -1.24328554e-04  -1.55479248e-03  -1.03657463e-03\n",
      "   4.57689020e-06   1.00084691e+00   6.91032489e-04   6.15750857e-03\n",
      "   4.95985193e-03   2.17967078e-03  -3.85313279e-07   2.80935112e-06\n",
      "  -9.18015910e-06  -2.46899012e-03  -2.30540169e-03  -1.59458803e-03\n",
      "  -1.18022273e-02  -1.02167423e-02  -6.95581654e-03  -1.44711038e-03\n",
      "   3.41455127e-08   1.92313671e-06  -1.06483507e-06  -1.31609244e-06\n",
      "  -7.21205987e-05   4.14540370e-05   2.90707864e-03   4.16334956e-03\n",
      "   2.90952599e-03   1.60374967e-03   1.39530140e-02   3.85649594e-03\n",
      "   1.19901909e-02   4.63032604e-03  -5.07147780e-04   2.25429280e-09\n",
      "   3.80511897e-08  -1.68775205e-07  -8.07908223e-07  -3.84972102e-06\n",
      "   4.38013988e-06   8.82921501e-06   1.24033645e-05   1.11216604e-04\n",
      "  -6.98402857e-05  -1.54797553e-03  -2.63538326e-03  -2.76587580e-03\n",
      "  -1.86221702e-03  -6.34232286e-04  -8.95781743e-03   4.01772457e-03\n",
      "  -1.04785127e-02  -6.65907582e-04  -2.81136895e-03   9.59733945e-04\n",
      "  -3.46573894e-12  -5.86191299e-10  -1.00550099e-09  -1.02619798e-08\n",
      "   1.15640047e-08   7.61276062e-08   5.55645858e-08   9.62311693e-07\n",
      "   8.30130710e-07  -1.93304900e-06  -3.64509283e-06   5.95439418e-07\n",
      "  -1.93406265e-05  -3.17055686e-05   2.62562597e-05   2.59036341e-04\n",
      "   8.43460828e-04   2.54850208e-04   9.96283242e-04   3.66330918e-04\n",
      "   7.57593064e-05   2.22010834e-03  -1.89698091e-03   1.85054488e-03\n",
      "   1.74096082e-03  -8.28269031e-04   7.88436640e-04  -2.81428998e-04]\n",
      "Coefficient for y with Ridge Regression: [  0.00000000e+00   4.88929276e-02  -2.36254377e-03  -1.49171583e-03\n",
      "  -4.89926962e-02   1.11467692e-03   1.00028505e+00   6.57856715e-03\n",
      "   4.54722165e-03   5.84122252e-03   2.17784220e-07   4.93353849e-05\n",
      "  -4.92763789e-05  -4.68910929e-03  -1.01889744e-03  -3.30356168e-04\n",
      "   1.46217952e-03  -1.42984979e-02  -7.44668941e-03  -9.96280230e-03\n",
      "  -2.30911615e-08  -2.91204195e-06   2.22094363e-06  -7.12237294e-05\n",
      "   3.48279653e-06   2.16850819e-05   7.42911157e-03   1.15344099e-03\n",
      "   1.87643186e-03   1.14844631e-04  -2.12131381e-02   3.41594861e-02\n",
      "  -1.31534167e-02   1.75804992e-02   6.97742668e-03   3.06379744e-09\n",
      "  -5.07519428e-08  -9.99432968e-08   1.76868954e-06   4.45495076e-06\n",
      "  -1.31162528e-06   4.18502538e-05   1.65952533e-05  -5.21249408e-05\n",
      "   1.65435152e-05  -4.56401815e-03  -2.39489168e-03   8.93535667e-04\n",
      "  -1.74244429e-03   2.42200050e-06   1.94106801e-02  -1.99683123e-02\n",
      "  -3.14507400e-03   1.08956015e-02  -1.36450388e-02  -1.73987384e-03\n",
      "  -7.93058195e-12  -2.25082530e-10  -1.08202148e-09   1.10152579e-08\n",
      "   3.40857779e-08   4.57647860e-08  -2.86276587e-07  -1.25443962e-06\n",
      "  -1.52984275e-06   1.94633186e-07  -9.22992231e-06  -7.85112361e-06\n",
      "   1.17833688e-05   1.74029868e-05  -8.84033179e-06   9.88017119e-04\n",
      "   8.24255214e-04  -3.84007927e-06  -2.49049152e-04   4.74911950e-04\n",
      "   3.31856676e-07  -5.23900270e-03   4.20130141e-03   8.90818435e-04\n",
      "  -1.11466138e-04  -2.39061696e-03   3.32875111e-03   3.52329903e-05]\n"
     ]
    }
   ],
   "source": [
    "print 'Coefficient for x with Ridge Regression:', Ridge_model_x.coef_\n",
    "print 'Coefficient for y with Ridge Regression:', Ridge_model_y.coef_"
   ]
  },
  {
   "cell_type": "code",
   "execution_count": 12,
   "metadata": {
    "collapsed": false
   },
   "outputs": [
    {
     "name": "stdout",
     "output_type": "stream",
     "text": [
      "Root Mean Square Error for In-Sample of x with Ridge Regression : 0.000160411857164\n",
      "Root Mean Square Error for Out-Sample of x with Ridge Regression :  0.000205876363974\n"
     ]
    }
   ],
   "source": [
    "i = Ridge_model_x.predict(X_train)\n",
    "o = Ridge_model_x.predict(X_test)\n",
    "print 'Root Mean Square Error for In-Sample of x with Ridge Regression :', np.sqrt(mean_squared_error(xy_pos_train[:,0], i))\n",
    "print 'Root Mean Square Error for Out-Sample of x with Ridge Regression : ', np.sqrt(mean_squared_error(xy_pos_test[:,0], o))"
   ]
  },
  {
   "cell_type": "code",
   "execution_count": 13,
   "metadata": {
    "collapsed": false
   },
   "outputs": [
    {
     "name": "stdout",
     "output_type": "stream",
     "text": [
      "Root Mean Square Error for In-Sample of y with Ridge Regression  0.000204054635678\n",
      "Root Mean Square Error for Out-Sample of y with Ridge Regression:  0.000216494483369\n"
     ]
    }
   ],
   "source": [
    "i = Ridge_model_y.predict(X_train)\n",
    "o = Ridge_model_y.predict(X_test)\n",
    "print 'Root Mean Square Error for In-Sample of y with Ridge Regression ', np.sqrt(mean_squared_error(xy_pos_train[:,1], i))\n",
    "print 'Root Mean Square Error for Out-Sample of y with Ridge Regression: ', np.sqrt(mean_squared_error(xy_pos_test[:,1], o))"
   ]
  },
  {
   "cell_type": "markdown",
   "metadata": {},
   "source": [
    "# _Apply Lasso Regression as our model_#"
   ]
  },
  {
   "cell_type": "code",
   "execution_count": 14,
   "metadata": {
    "collapsed": false
   },
   "outputs": [
    {
     "name": "stderr",
     "output_type": "stream",
     "text": [
      "C:\\Users\\buu\\Anaconda2\\lib\\site-packages\\sklearn\\linear_model\\coordinate_descent.py:479: ConvergenceWarning: Objective did not converge. You might want to increase the number of iterations. Fitting data with very small alpha may cause precision problems.\n",
      "  ConvergenceWarning)\n"
     ]
    },
    {
     "data": {
      "text/plain": [
       "LassoCV(alphas=[1e-06, 1e-05, 0.0001, 0.001, 0.01, 0.1, 1.0, 10.0, 100],\n",
       "    copy_X=True, cv=5, eps=0.001, fit_intercept=True, max_iter=1000,\n",
       "    n_alphas=100, n_jobs=1, normalize=False, positive=False,\n",
       "    precompute='auto', random_state=None, selection='cyclic', tol=0.0001,\n",
       "    verbose=False)"
      ]
     },
     "execution_count": 14,
     "metadata": {},
     "output_type": "execute_result"
    }
   ],
   "source": [
    "Lasso_model_x = LassoCV(alphas=[0.000001,0.00001, 0.0001,0.001,0.01,0.1, 1.0, 10.0,100],cv = 5)\n",
    "Lasso_model_x.fit(X_train,xy_pos_train[:,0])"
   ]
  },
  {
   "cell_type": "code",
   "execution_count": 15,
   "metadata": {
    "collapsed": false
   },
   "outputs": [
    {
     "data": {
      "text/plain": [
       "LassoCV(alphas=[1e-06, 1e-05, 0.0001, 0.001, 0.01, 0.1, 1.0, 10.0, 100],\n",
       "    copy_X=True, cv=5, eps=0.001, fit_intercept=True, max_iter=1000,\n",
       "    n_alphas=100, n_jobs=1, normalize=False, positive=False,\n",
       "    precompute='auto', random_state=None, selection='cyclic', tol=0.0001,\n",
       "    verbose=False)"
      ]
     },
     "execution_count": 15,
     "metadata": {},
     "output_type": "execute_result"
    }
   ],
   "source": [
    "Lasso_model_y = LassoCV(alphas=[0.000001,0.00001, 0.0001,0.001,0.01,0.1, 1.0, 10.0,100],cv = 5)\n",
    "Lasso_model_y.fit(X_train,xy_pos_train[:,1])"
   ]
  },
  {
   "cell_type": "code",
   "execution_count": 16,
   "metadata": {
    "collapsed": false
   },
   "outputs": [
    {
     "name": "stdout",
     "output_type": "stream",
     "text": [
      "Coefficient for x with Lasso Regression: [  0.00000000e+00   5.43907287e-02   4.96219757e-01  -6.32240357e-02\n",
      "   3.01424804e-03   8.20587847e-01  -1.02185107e-01  -4.00612478e-01\n",
      "   6.40600605e-01   1.43003501e-01  -1.08005086e-04   2.93472161e-03\n",
      "   3.63422801e-04   9.50558107e-02   6.60523037e-02   2.05858712e-02\n",
      "  -1.83810516e-01  -2.11099141e-01  -4.13820660e-01   3.71163144e-02\n",
      "  -1.38286012e-06  -1.16265160e-04   4.01434869e-05  -2.11405949e-03\n",
      "   1.48991747e-03  -9.33951550e-05   2.08118692e-02   7.85446212e-03\n",
      "   2.18345336e-02   3.61127347e-03   1.66768117e-01  -5.16844507e-02\n",
      "  -1.57154947e-01  -1.11553517e-01  -3.93077246e-03   2.11292864e-09\n",
      "  -9.32971875e-07   6.11158298e-07  -4.97470317e-05   3.39308335e-05\n",
      "  -3.75479605e-06  -7.79243626e-04   2.63108519e-04   2.28971479e-05\n",
      "  -1.53567712e-04  -1.45110425e-03  -4.03886841e-03  -7.94218937e-04\n",
      "   2.26611741e-03   5.37115181e-04   4.92267629e-02   2.10688201e-02\n",
      "  -7.82758109e-03   1.92757763e-02  -1.16224430e-02  -7.21873570e-03\n",
      "  -1.28998195e-10   5.47467158e-08   8.30715966e-09   2.43299905e-06\n",
      "  -2.30269404e-07   4.01518388e-08   5.77340199e-05  -2.12523163e-05\n",
      "  -1.06565720e-05  -6.30906683e-07   1.83571124e-04  -2.23239067e-04\n",
      "  -4.45783708e-04  -3.37513806e-04  -3.64631410e-05  -9.04917656e-03\n",
      "  -8.21907028e-04  -9.40975191e-03  -5.89216361e-03  -3.60467700e-03\n",
      "   4.27729079e-04  -3.52839685e-02   2.21706675e-02   1.87855932e-02\n",
      "   6.20362764e-02   9.21754209e-02   1.41274477e-02  -4.45987659e-03]\n",
      "Coefficient for y with Lasso Regression: [  0.00000000e+00   3.52770277e-03   1.09313748e-02   7.85133263e-01\n",
      "  -2.60170018e-02   9.14736737e-02   5.81568761e-01  -3.36543648e-01\n",
      "  -6.04785180e-01   3.27554783e-01  -6.57342946e-04  -1.07543734e-02\n",
      "   5.57691151e-03  -3.25106714e-02   1.79692336e-01   1.21114640e-01\n",
      "   3.23059978e-01   6.33947220e-02  -3.91256747e-01  -1.58997850e-01\n",
      "  -5.04656174e-06  -1.44310129e-04   5.80840918e-05  -3.05895388e-03\n",
      "   7.23637253e-04  -5.22066087e-04  -3.18889943e-03   4.42406932e-02\n",
      "   3.27035110e-02   2.34740580e-02  -1.95992391e-03   1.27728777e-01\n",
      "   2.48993872e-02  -1.83625459e-01  -9.27908210e-02   1.25595428e-08\n",
      "   1.93982595e-06   2.12613527e-06   2.41419381e-05   3.98689011e-05\n",
      "  -1.39870119e-05   8.98524958e-05   1.36738631e-04  -9.76021406e-04\n",
      "  -7.42751582e-04  -4.76125319e-03  -1.26534562e-03   1.57790959e-03\n",
      "  -7.88895235e-03   4.18641891e-03  -4.44508147e-02   4.94980185e-02\n",
      "   9.98024386e-03   1.38760174e-02   1.80368586e-02  -1.54043419e-02\n",
      "  -2.71905584e-09  -4.77078675e-08   1.34570156e-07   3.42525065e-08\n",
      "   4.62277985e-06   5.02102442e-07   8.11684267e-05   2.61887533e-05\n",
      "   1.92835211e-05  -1.31501094e-05   1.01049327e-03  -4.99841900e-04\n",
      "  -3.01542555e-04  -8.60639849e-04  -4.76676271e-04   2.62284368e-03\n",
      "  -1.62039031e-02  -1.20604056e-02  -1.01792989e-02  -1.41866397e-02\n",
      "   4.52239801e-04  -1.52972592e-02   1.08087823e-02  -3.87667958e-02\n",
      "  -1.58508878e-02   8.18540713e-02   1.02570124e-01   6.01185641e-03]\n"
     ]
    }
   ],
   "source": [
    "print 'Coefficient for x with Lasso Regression:', Lasso_model_x.coef_\n",
    "print 'Coefficient for y with Lasso Regression:', Lasso_model_y.coef_"
   ]
  },
  {
   "cell_type": "code",
   "execution_count": 17,
   "metadata": {
    "collapsed": false
   },
   "outputs": [
    {
     "name": "stdout",
     "output_type": "stream",
     "text": [
      "Root Mean Square Error for In-Sample of x with Lasso Regression : 0.036283143103\n",
      "Root Mean Square Error for Out-Sample of x with Lasso Regression :  0.0396098965348\n"
     ]
    }
   ],
   "source": [
    "i = Lasso_model_x.predict(X_train)\n",
    "o = Lasso_model_x.predict(X_test)\n",
    "print 'Root Mean Square Error for In-Sample of x with Lasso Regression :', np.sqrt(mean_squared_error(xy_pos_train[:,0], i))\n",
    "print 'Root Mean Square Error for Out-Sample of x with Lasso Regression : ', np.sqrt(mean_squared_error(xy_pos_test[:,0], o))"
   ]
  },
  {
   "cell_type": "code",
   "execution_count": 18,
   "metadata": {
    "collapsed": false
   },
   "outputs": [
    {
     "name": "stdout",
     "output_type": "stream",
     "text": [
      "Root Mean Square Error for In-Sample of y with Lasso Regression : 0.11249078813\n",
      "Root Mean Square Error for Out-Sample of y with Lasso Regression :  0.119281573296\n"
     ]
    }
   ],
   "source": [
    "i = Lasso_model_y.predict(X_train)\n",
    "o = Lasso_model_y.predict(X_test)\n",
    "print 'Root Mean Square Error for In-Sample of y with Lasso Regression :', np.sqrt(mean_squared_error(xy_pos_train[:,1], i))\n",
    "print 'Root Mean Square Error for Out-Sample of y with Lasso Regression : ', np.sqrt(mean_squared_error(xy_pos_test[:,1], o))"
   ]
  },
  {
   "cell_type": "markdown",
   "metadata": {},
   "source": [
    "# _Predict the trajectory of a projectile launched at 45 degrees with an initial velocity of 10 m/s till it hits the ground or timeindex=100 whichever is earlier_"
   ]
  },
  {
   "cell_type": "code",
   "execution_count": 19,
   "metadata": {
    "collapsed": false
   },
   "outputs": [
    {
     "data": {
      "text/html": [
       "<div>\n",
       "<table border=\"1\" class=\"dataframe\">\n",
       "  <thead>\n",
       "    <tr style=\"text-align: right;\">\n",
       "      <th></th>\n",
       "      <th>t</th>\n",
       "      <th>x</th>\n",
       "      <th>y</th>\n",
       "    </tr>\n",
       "  </thead>\n",
       "  <tbody>\n",
       "    <tr>\n",
       "      <th>0</th>\n",
       "      <td>1</td>\n",
       "      <td>0.707107</td>\n",
       "      <td>0.658107</td>\n",
       "    </tr>\n",
       "    <tr>\n",
       "      <th>1</th>\n",
       "      <td>2</td>\n",
       "      <td>0.707107</td>\n",
       "      <td>0.658107</td>\n",
       "    </tr>\n",
       "    <tr>\n",
       "      <th>2</th>\n",
       "      <td>3</td>\n",
       "      <td>0.707107</td>\n",
       "      <td>0.658107</td>\n",
       "    </tr>\n",
       "    <tr>\n",
       "      <th>3</th>\n",
       "      <td>4</td>\n",
       "      <td>0.707107</td>\n",
       "      <td>0.658107</td>\n",
       "    </tr>\n",
       "    <tr>\n",
       "      <th>4</th>\n",
       "      <td>5</td>\n",
       "      <td>0.707107</td>\n",
       "      <td>0.658107</td>\n",
       "    </tr>\n",
       "  </tbody>\n",
       "</table>\n",
       "</div>"
      ],
      "text/plain": [
       "   t         x         y\n",
       "0  1  0.707107  0.658107\n",
       "1  2  0.707107  0.658107\n",
       "2  3  0.707107  0.658107\n",
       "3  4  0.707107  0.658107\n",
       "4  5  0.707107  0.658107"
      ]
     },
     "execution_count": 19,
     "metadata": {},
     "output_type": "execute_result"
    }
   ],
   "source": [
    "#Read the formatted output file\n",
    "predict_df = pd.read_csv('out_45_10.csv')\n",
    "predict_df.head()"
   ]
  },
  {
   "cell_type": "code",
   "execution_count": 20,
   "metadata": {
    "collapsed": false
   },
   "outputs": [
    {
     "data": {
      "text/html": [
       "<div>\n",
       "<table border=\"1\" class=\"dataframe\">\n",
       "  <thead>\n",
       "    <tr style=\"text-align: right;\">\n",
       "      <th></th>\n",
       "      <th>x</th>\n",
       "      <th>y</th>\n",
       "    </tr>\n",
       "  </thead>\n",
       "  <tbody>\n",
       "    <tr>\n",
       "      <th>0</th>\n",
       "      <td>0.70711</td>\n",
       "      <td>0.65811</td>\n",
       "    </tr>\n",
       "    <tr>\n",
       "      <th>1</th>\n",
       "      <td>1.41420</td>\n",
       "      <td>1.21820</td>\n",
       "    </tr>\n",
       "    <tr>\n",
       "      <th>2</th>\n",
       "      <td>2.12130</td>\n",
       "      <td>1.68030</td>\n",
       "    </tr>\n",
       "    <tr>\n",
       "      <th>3</th>\n",
       "      <td>2.82840</td>\n",
       "      <td>2.04440</td>\n",
       "    </tr>\n",
       "    <tr>\n",
       "      <th>4</th>\n",
       "      <td>3.53550</td>\n",
       "      <td>2.31050</td>\n",
       "    </tr>\n",
       "  </tbody>\n",
       "</table>\n",
       "</div>"
      ],
      "text/plain": [
       "         x        y\n",
       "0  0.70711  0.65811\n",
       "1  1.41420  1.21820\n",
       "2  2.12130  1.68030\n",
       "3  2.82840  2.04440\n",
       "4  3.53550  2.31050"
      ]
     },
     "execution_count": 20,
     "metadata": {},
     "output_type": "execute_result"
    }
   ],
   "source": [
    "#Read the prepared ground truth\n",
    "ground_truth = pd.read_csv('Ground_truth.csv')\n",
    "X_truth = ground_truth['x'].values\n",
    "Y_truth = ground_truth['y'].values\n",
    "Y_truth_stop = Y_truth[Y_truth>=0]\n",
    "X_truth_stop = X_truth[0:len(Y_truth_stop)]\n",
    "ground_truth.head()\n"
   ]
  },
  {
   "cell_type": "code",
   "execution_count": 21,
   "metadata": {
    "collapsed": false
   },
   "outputs": [],
   "source": [
    "X_input = poly.fit_transform(predict_df.values)"
   ]
  },
  {
   "cell_type": "markdown",
   "metadata": {},
   "source": [
    "Apply the model to the data set"
   ]
  },
  {
   "cell_type": "code",
   "execution_count": 22,
   "metadata": {
    "collapsed": false
   },
   "outputs": [
    {
     "name": "stdout",
     "output_type": "stream",
     "text": [
      "[ 0.70708913  1.41420073  2.12131026  2.82841725  3.53552124  4.24262191\n",
      "  4.94971923  5.65681355  6.36390574  7.07099735  7.77809067  8.48518888\n",
      "  9.19229616  9.89941782]\n",
      "[ 0.6581311   1.2182298   1.68032657  2.04442374  2.31052239  2.47862258\n",
      "  2.54872365  2.52082438  2.39492323  2.17101862  1.84910907  1.42919345\n",
      "  0.91127115  0.29534234]\n"
     ]
    }
   ],
   "source": [
    "#This block output the trajectories of the projectile based on Ridge Regression Model\n",
    "x_output_Ridge = Ridge_model_x.predict(X_input)\n",
    "y_output_Ridge = Ridge_model_y.predict(X_input)\n",
    "y_output_Ridge_stop = y_output_Ridge[y_output_Ridge>=0]\n",
    "x_output_Ridge_stop = x_output_Ridge[0:len(y_output_Ridge_stop)]\n",
    "print x_output_Ridge_stop\n",
    "print y_output_Ridge_stop"
   ]
  },
  {
   "cell_type": "code",
   "execution_count": 23,
   "metadata": {
    "collapsed": false
   },
   "outputs": [
    {
     "name": "stdout",
     "output_type": "stream",
     "text": [
      "14\n",
      "[ 0.76011679  1.43939019  2.12571437  2.8180891   3.51551806  4.21701405\n",
      "  4.92160415  5.62833475  6.33627652  7.04452924  7.7522266   8.45854083\n",
      "  9.16268731  9.86392906]\n",
      "[ 0.6950346   1.18607765  1.60525957  1.94866482  2.21239562  2.39257317\n",
      "  2.48533698  2.48684212  2.39325466  2.200745    1.90547935  1.50360922\n",
      "  0.99125895  0.36451128]\n"
     ]
    }
   ],
   "source": [
    "#This block output the trajectories of the projectile based on Lasso Regression model\n",
    "x_output_Lasso = Lasso_model_x.predict(X_input)\n",
    "y_output_Lasso = Lasso_model_y.predict(X_input)\n",
    "_less_than_0= np.argmax(y_output_Lasso < 0)\n",
    "print _less_than_0\n",
    "y_output_Lasso_stop = y_output_Lasso[0:_less_than_0]\n",
    "x_output_Lasso_stop = x_output_Lasso[0:_less_than_0]\n",
    "print x_output_Lasso_stop\n",
    "print y_output_Lasso_stop"
   ]
  },
  {
   "cell_type": "markdown",
   "metadata": {},
   "source": [
    "# _Plot the trajectories of the 2 models and the ground truth (based on Physics) _"
   ]
  },
  {
   "cell_type": "code",
   "execution_count": 24,
   "metadata": {
    "collapsed": false
   },
   "outputs": [
    {
     "data": {
      "image/png": "[encoded data removed]",
      "text/plain": [
       "<matplotlib.figure.Figure at 0xce1e0f0>"
      ]
     },
     "metadata": {},
     "output_type": "display_data"
    },
    {
     "data": {
      "image/png": "[encoded data removed]",
      "text/plain": [
       "<matplotlib.figure.Figure at 0xae80048>"
      ]
     },
     "metadata": {},
     "output_type": "display_data"
    }
   ],
   "source": [
    "plt.subplot(2, 1, 1)\n",
    "a0= plt.plot(x_output_Lasso_stop, y_output_Lasso_stop, label = 'Lasso')\n",
    "a1= plt.plot(x_output_Ridge_stop, y_output_Ridge_stop, label = 'Ridge')\n",
    "a2= plt.plot(X_truth_stop , Y_truth_stop,'o', label = 'Ground truth')\n",
    "plt.legend()\n",
    "plt.title('Trajectory of the projectile before hitting the ground')\n",
    "plt.xlabel('x')\n",
    "plt.ylabel('y')\n",
    "plt.show()\n",
    "\n",
    "plt.subplot(2, 1, 2)\n",
    "a0= plt.plot(x_output_Lasso, y_output_Lasso, label = 'Lasso')\n",
    "a1 = plt.plot(x_output_Ridge, y_output_Ridge, label = 'Ridge')\n",
    "a2 = plt.plot(X_truth , Y_truth,'o', label = 'Ground truth')\n",
    "plt.legend()\n",
    "plt.title('Trajectory of the projectile ignore hitting the ground')\n",
    "plt.xlabel('x')\n",
    "plt.ylabel('y')\n",
    "plt.show()\n",
    "plt.show()"
   ]
  },
  {
   "cell_type": "markdown",
   "metadata": {},
   "source": [
    "# _Output csv file for submission (Ridge Regression only)_#"
   ]
  },
  {
   "cell_type": "code",
   "execution_count": 25,
   "metadata": {
    "collapsed": false
   },
   "outputs": [],
   "source": [
    "predict_df['x_out'] = x_output_Ridge\n",
    "predict_df['y_out'] = y_output_Ridge\n",
    "tem_df = pd.DataFrame([[0,0,0,0,0]], columns=predict_df.columns)"
   ]
  },
  {
   "cell_type": "code",
   "execution_count": 26,
   "metadata": {
    "collapsed": false
   },
   "outputs": [],
   "source": [
    "tem_df = tem_df.append(predict_df,ignore_index=True)\n",
    "out_df = tem_df[tem_df['y_out'] >= 0]"
   ]
  },
  {
   "cell_type": "code",
   "execution_count": 27,
   "metadata": {
    "collapsed": false
   },
   "outputs": [],
   "source": [
    "out_df = out_df[['t','x_out','y_out']]\n",
    "out_df.columns = ['[time_collect]', '[x]', '[y]']"
   ]
  },
  {
   "cell_type": "code",
   "execution_count": 28,
   "metadata": {
    "collapsed": false
   },
   "outputs": [
    {
     "data": {
      "text/html": [
       "<div>\n",
       "<table border=\"1\" class=\"dataframe\">\n",
       "  <thead>\n",
       "    <tr style=\"text-align: right;\">\n",
       "      <th></th>\n",
       "      <th>[time_collect]</th>\n",
       "      <th>[x]</th>\n",
       "      <th>[y]</th>\n",
       "    </tr>\n",
       "  </thead>\n",
       "  <tbody>\n",
       "    <tr>\n",
       "      <th>0</th>\n",
       "      <td>0</td>\n",
       "      <td>0.000000</td>\n",
       "      <td>0.000000</td>\n",
       "    </tr>\n",
       "    <tr>\n",
       "      <th>1</th>\n",
       "      <td>1</td>\n",
       "      <td>0.707089</td>\n",
       "      <td>0.658131</td>\n",
       "    </tr>\n",
       "    <tr>\n",
       "      <th>2</th>\n",
       "      <td>2</td>\n",
       "      <td>1.414201</td>\n",
       "      <td>1.218230</td>\n",
       "    </tr>\n",
       "    <tr>\n",
       "      <th>3</th>\n",
       "      <td>3</td>\n",
       "      <td>2.121310</td>\n",
       "      <td>1.680327</td>\n",
       "    </tr>\n",
       "    <tr>\n",
       "      <th>4</th>\n",
       "      <td>4</td>\n",
       "      <td>2.828417</td>\n",
       "      <td>2.044424</td>\n",
       "    </tr>\n",
       "    <tr>\n",
       "      <th>5</th>\n",
       "      <td>5</td>\n",
       "      <td>3.535521</td>\n",
       "      <td>2.310522</td>\n",
       "    </tr>\n",
       "    <tr>\n",
       "      <th>6</th>\n",
       "      <td>6</td>\n",
       "      <td>4.242622</td>\n",
       "      <td>2.478623</td>\n",
       "    </tr>\n",
       "    <tr>\n",
       "      <th>7</th>\n",
       "      <td>7</td>\n",
       "      <td>4.949719</td>\n",
       "      <td>2.548724</td>\n",
       "    </tr>\n",
       "    <tr>\n",
       "      <th>8</th>\n",
       "      <td>8</td>\n",
       "      <td>5.656814</td>\n",
       "      <td>2.520824</td>\n",
       "    </tr>\n",
       "    <tr>\n",
       "      <th>9</th>\n",
       "      <td>9</td>\n",
       "      <td>6.363906</td>\n",
       "      <td>2.394923</td>\n",
       "    </tr>\n",
       "    <tr>\n",
       "      <th>10</th>\n",
       "      <td>10</td>\n",
       "      <td>7.070997</td>\n",
       "      <td>2.171019</td>\n",
       "    </tr>\n",
       "    <tr>\n",
       "      <th>11</th>\n",
       "      <td>11</td>\n",
       "      <td>7.778091</td>\n",
       "      <td>1.849109</td>\n",
       "    </tr>\n",
       "    <tr>\n",
       "      <th>12</th>\n",
       "      <td>12</td>\n",
       "      <td>8.485189</td>\n",
       "      <td>1.429193</td>\n",
       "    </tr>\n",
       "    <tr>\n",
       "      <th>13</th>\n",
       "      <td>13</td>\n",
       "      <td>9.192296</td>\n",
       "      <td>0.911271</td>\n",
       "    </tr>\n",
       "    <tr>\n",
       "      <th>14</th>\n",
       "      <td>14</td>\n",
       "      <td>9.899418</td>\n",
       "      <td>0.295342</td>\n",
       "    </tr>\n",
       "  </tbody>\n",
       "</table>\n",
       "</div>"
      ],
      "text/plain": [
       "    [time_collect]       [x]       [y]\n",
       "0                0  0.000000  0.000000\n",
       "1                1  0.707089  0.658131\n",
       "2                2  1.414201  1.218230\n",
       "3                3  2.121310  1.680327\n",
       "4                4  2.828417  2.044424\n",
       "5                5  3.535521  2.310522\n",
       "6                6  4.242622  2.478623\n",
       "7                7  4.949719  2.548724\n",
       "8                8  5.656814  2.520824\n",
       "9                9  6.363906  2.394923\n",
       "10              10  7.070997  2.171019\n",
       "11              11  7.778091  1.849109\n",
       "12              12  8.485189  1.429193\n",
       "13              13  9.192296  0.911271\n",
       "14              14  9.899418  0.295342"
      ]
     },
     "execution_count": 28,
     "metadata": {},
     "output_type": "execute_result"
    }
   ],
   "source": [
    "out_df"
   ]
  },
  {
   "cell_type": "code",
   "execution_count": 29,
   "metadata": {
    "collapsed": false
   },
   "outputs": [],
   "source": [
    "out_df.to_csv('submission.csv', index= False)"
   ]
  },
  {
   "cell_type": "code",
   "execution_count": null,
   "metadata": {
    "collapsed": true
   },
   "outputs": [],
   "source": []
  }
 ],
 "metadata": {
  "kernelspec": {
   "display_name": "Python [Root]",
   "language": "python",
   "name": "Python [Root]"
  },
  "language_info": {
   "codemirror_mode": {
    "name": "ipython",
    "version": 2
   },
   "file_extension": ".py",
   "mimetype": "text/x-python",
   "name": "python",
   "nbconvert_exporter": "python",
   "pygments_lexer": "ipython2",
   "version": "2.7.12"
  }
 },
 "nbformat": 4,
 "nbformat_minor": 0
}
